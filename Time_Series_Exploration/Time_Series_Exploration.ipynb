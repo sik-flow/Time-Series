{
 "cells": [
  {
   "cell_type": "code",
   "execution_count": 14,
   "metadata": {},
   "outputs": [],
   "source": [
    "import pandas as pd\n",
    "import numpy as np"
   ]
  },
  {
   "cell_type": "code",
   "execution_count": 4,
   "metadata": {},
   "outputs": [],
   "source": [
    "df_a = pd.DataFrame(data=[[2.5, 2.0, 2.0], [2.0, 2.0, 2.0]], columns=list('ABC'))\n",
    "df_b = pd.DataFrame(data=[[1.0, 6.0, 7.0, 1.0], [8.5, 1.0, 9.0, 1.0]], columns=list('CBDE'))"
   ]
  },
  {
   "cell_type": "code",
   "execution_count": 5,
   "metadata": {},
   "outputs": [
    {
     "data": {
      "text/html": [
       "<div>\n",
       "<style scoped>\n",
       "    .dataframe tbody tr th:only-of-type {\n",
       "        vertical-align: middle;\n",
       "    }\n",
       "\n",
       "    .dataframe tbody tr th {\n",
       "        vertical-align: top;\n",
       "    }\n",
       "\n",
       "    .dataframe thead th {\n",
       "        text-align: right;\n",
       "    }\n",
       "</style>\n",
       "<table border=\"1\" class=\"dataframe\">\n",
       "  <thead>\n",
       "    <tr style=\"text-align: right;\">\n",
       "      <th></th>\n",
       "      <th>A</th>\n",
       "      <th>B</th>\n",
       "      <th>C</th>\n",
       "    </tr>\n",
       "  </thead>\n",
       "  <tbody>\n",
       "    <tr>\n",
       "      <th>0</th>\n",
       "      <td>2.5</td>\n",
       "      <td>2.0</td>\n",
       "      <td>2.0</td>\n",
       "    </tr>\n",
       "    <tr>\n",
       "      <th>1</th>\n",
       "      <td>2.0</td>\n",
       "      <td>2.0</td>\n",
       "      <td>2.0</td>\n",
       "    </tr>\n",
       "  </tbody>\n",
       "</table>\n",
       "</div>"
      ],
      "text/plain": [
       "     A    B    C\n",
       "0  2.5  2.0  2.0\n",
       "1  2.0  2.0  2.0"
      ]
     },
     "execution_count": 5,
     "metadata": {},
     "output_type": "execute_result"
    }
   ],
   "source": [
    "df_a"
   ]
  },
  {
   "cell_type": "code",
   "execution_count": 6,
   "metadata": {},
   "outputs": [
    {
     "data": {
      "text/html": [
       "<div>\n",
       "<style scoped>\n",
       "    .dataframe tbody tr th:only-of-type {\n",
       "        vertical-align: middle;\n",
       "    }\n",
       "\n",
       "    .dataframe tbody tr th {\n",
       "        vertical-align: top;\n",
       "    }\n",
       "\n",
       "    .dataframe thead th {\n",
       "        text-align: right;\n",
       "    }\n",
       "</style>\n",
       "<table border=\"1\" class=\"dataframe\">\n",
       "  <thead>\n",
       "    <tr style=\"text-align: right;\">\n",
       "      <th></th>\n",
       "      <th>C</th>\n",
       "      <th>B</th>\n",
       "      <th>D</th>\n",
       "      <th>E</th>\n",
       "    </tr>\n",
       "  </thead>\n",
       "  <tbody>\n",
       "    <tr>\n",
       "      <th>0</th>\n",
       "      <td>1.0</td>\n",
       "      <td>6.0</td>\n",
       "      <td>7.0</td>\n",
       "      <td>1.0</td>\n",
       "    </tr>\n",
       "    <tr>\n",
       "      <th>1</th>\n",
       "      <td>8.5</td>\n",
       "      <td>1.0</td>\n",
       "      <td>9.0</td>\n",
       "      <td>1.0</td>\n",
       "    </tr>\n",
       "  </tbody>\n",
       "</table>\n",
       "</div>"
      ],
      "text/plain": [
       "     C    B    D    E\n",
       "0  1.0  6.0  7.0  1.0\n",
       "1  8.5  1.0  9.0  1.0"
      ]
     },
     "execution_count": 6,
     "metadata": {},
     "output_type": "execute_result"
    }
   ],
   "source": [
    "df_b"
   ]
  },
  {
   "cell_type": "code",
   "execution_count": 19,
   "metadata": {},
   "outputs": [
    {
     "name": "stdout",
     "output_type": "stream",
     "text": [
      "760 µs ± 46.6 µs per loop (mean ± std. dev. of 7 runs, 1000 loops each)\n"
     ]
    }
   ],
   "source": [
    "%%timeit\n",
    "df = df_a.copy()\n",
    "for x in df.columns:\n",
    "    if x in df_b.columns:\n",
    "        for i in range(len(df)):\n",
    "            if df_b.loc[i, x] > df.loc[i, x]:\n",
    "                df.loc[i, x] = df_b.loc[i, x]\n",
    "df"
   ]
  },
  {
   "cell_type": "code",
   "execution_count": null,
   "metadata": {},
   "outputs": [],
   "source": [
    "aa"
   ]
  },
  {
   "cell_type": "code",
   "execution_count": 18,
   "metadata": {},
   "outputs": [
    {
     "name": "stdout",
     "output_type": "stream",
     "text": [
      "707 µs ± 30.5 µs per loop (mean ± std. dev. of 7 runs, 1000 loops each)\n"
     ]
    }
   ],
   "source": [
    "%%timeit\n",
    "df1 = df_a.copy()\n",
    "for x in df1.columns:\n",
    "    if x in df_b.columns:\n",
    "        df1[x] = np.where(df_a[x] < df_b[x], df_b[x], df_a[x])\n",
    "df1"
   ]
  },
  {
   "cell_type": "code",
   "execution_count": 15,
   "metadata": {},
   "outputs": [
    {
     "data": {
      "text/plain": [
       "array([6., 2.])"
      ]
     },
     "execution_count": 15,
     "metadata": {},
     "output_type": "execute_result"
    }
   ],
   "source": [
    "np.where(df_a['B'] < df_b['B'], df_b['B'], df_a['B'])"
   ]
  },
  {
   "cell_type": "code",
   "execution_count": 38,
   "metadata": {},
   "outputs": [],
   "source": [
    "df_a = pd.DataFrame({'a': np.random.normal(size = 100000), 'b': np.random.normal(size = 100000),\n",
    "                    'c': np.random.normal(size = 100000)})\n",
    "df_b = pd.DataFrame({'c': np.random.normal(size = 100000), 'b': np.random.normal(size = 100000),\n",
    "                    'd': np.random.normal(size = 100000), 'e': np.random.normal(size = 100000)})"
   ]
  },
  {
   "cell_type": "code",
   "execution_count": 22,
   "metadata": {},
   "outputs": [
    {
     "data": {
      "text/html": [
       "<div>\n",
       "<style scoped>\n",
       "    .dataframe tbody tr th:only-of-type {\n",
       "        vertical-align: middle;\n",
       "    }\n",
       "\n",
       "    .dataframe tbody tr th {\n",
       "        vertical-align: top;\n",
       "    }\n",
       "\n",
       "    .dataframe thead th {\n",
       "        text-align: right;\n",
       "    }\n",
       "</style>\n",
       "<table border=\"1\" class=\"dataframe\">\n",
       "  <thead>\n",
       "    <tr style=\"text-align: right;\">\n",
       "      <th></th>\n",
       "      <th>a</th>\n",
       "      <th>b</th>\n",
       "      <th>c</th>\n",
       "    </tr>\n",
       "  </thead>\n",
       "  <tbody>\n",
       "    <tr>\n",
       "      <th>0</th>\n",
       "      <td>0.837919</td>\n",
       "      <td>0.150241</td>\n",
       "      <td>2.186116</td>\n",
       "    </tr>\n",
       "    <tr>\n",
       "      <th>1</th>\n",
       "      <td>0.479641</td>\n",
       "      <td>0.379003</td>\n",
       "      <td>-0.120563</td>\n",
       "    </tr>\n",
       "    <tr>\n",
       "      <th>2</th>\n",
       "      <td>-1.716523</td>\n",
       "      <td>0.012681</td>\n",
       "      <td>-0.485913</td>\n",
       "    </tr>\n",
       "    <tr>\n",
       "      <th>3</th>\n",
       "      <td>0.613609</td>\n",
       "      <td>-0.011400</td>\n",
       "      <td>-0.172090</td>\n",
       "    </tr>\n",
       "    <tr>\n",
       "      <th>4</th>\n",
       "      <td>-1.424484</td>\n",
       "      <td>0.719305</td>\n",
       "      <td>-0.156362</td>\n",
       "    </tr>\n",
       "  </tbody>\n",
       "</table>\n",
       "</div>"
      ],
      "text/plain": [
       "          a         b         c\n",
       "0  0.837919  0.150241  2.186116\n",
       "1  0.479641  0.379003 -0.120563\n",
       "2 -1.716523  0.012681 -0.485913\n",
       "3  0.613609 -0.011400 -0.172090\n",
       "4 -1.424484  0.719305 -0.156362"
      ]
     },
     "execution_count": 22,
     "metadata": {},
     "output_type": "execute_result"
    }
   ],
   "source": [
    "df_a.head()"
   ]
  },
  {
   "cell_type": "code",
   "execution_count": 23,
   "metadata": {},
   "outputs": [
    {
     "data": {
      "text/html": [
       "<div>\n",
       "<style scoped>\n",
       "    .dataframe tbody tr th:only-of-type {\n",
       "        vertical-align: middle;\n",
       "    }\n",
       "\n",
       "    .dataframe tbody tr th {\n",
       "        vertical-align: top;\n",
       "    }\n",
       "\n",
       "    .dataframe thead th {\n",
       "        text-align: right;\n",
       "    }\n",
       "</style>\n",
       "<table border=\"1\" class=\"dataframe\">\n",
       "  <thead>\n",
       "    <tr style=\"text-align: right;\">\n",
       "      <th></th>\n",
       "      <th>c</th>\n",
       "      <th>b</th>\n",
       "      <th>d</th>\n",
       "      <th>e</th>\n",
       "    </tr>\n",
       "  </thead>\n",
       "  <tbody>\n",
       "    <tr>\n",
       "      <th>0</th>\n",
       "      <td>0.452486</td>\n",
       "      <td>-0.063278</td>\n",
       "      <td>-0.664222</td>\n",
       "      <td>1.148110</td>\n",
       "    </tr>\n",
       "    <tr>\n",
       "      <th>1</th>\n",
       "      <td>-1.121852</td>\n",
       "      <td>-0.226820</td>\n",
       "      <td>-0.606297</td>\n",
       "      <td>-0.130598</td>\n",
       "    </tr>\n",
       "    <tr>\n",
       "      <th>2</th>\n",
       "      <td>-0.182037</td>\n",
       "      <td>0.353947</td>\n",
       "      <td>1.525607</td>\n",
       "      <td>0.093142</td>\n",
       "    </tr>\n",
       "    <tr>\n",
       "      <th>3</th>\n",
       "      <td>-0.995701</td>\n",
       "      <td>-0.076716</td>\n",
       "      <td>-0.505176</td>\n",
       "      <td>0.787645</td>\n",
       "    </tr>\n",
       "    <tr>\n",
       "      <th>4</th>\n",
       "      <td>-0.301254</td>\n",
       "      <td>1.898516</td>\n",
       "      <td>-0.737028</td>\n",
       "      <td>-0.370444</td>\n",
       "    </tr>\n",
       "  </tbody>\n",
       "</table>\n",
       "</div>"
      ],
      "text/plain": [
       "          c         b         d         e\n",
       "0  0.452486 -0.063278 -0.664222  1.148110\n",
       "1 -1.121852 -0.226820 -0.606297 -0.130598\n",
       "2 -0.182037  0.353947  1.525607  0.093142\n",
       "3 -0.995701 -0.076716 -0.505176  0.787645\n",
       "4 -0.301254  1.898516 -0.737028 -0.370444"
      ]
     },
     "execution_count": 23,
     "metadata": {},
     "output_type": "execute_result"
    }
   ],
   "source": [
    "df_b.head()"
   ]
  },
  {
   "cell_type": "code",
   "execution_count": 33,
   "metadata": {},
   "outputs": [
    {
     "name": "stdout",
     "output_type": "stream",
     "text": [
      "213 ms ± 8.78 ms per loop (mean ± std. dev. of 7 runs, 1 loop each)\n"
     ]
    }
   ],
   "source": [
    "%%timeit\n",
    "df = df_a.copy()\n",
    "for x in df.columns:\n",
    "    if x in df_b.columns:\n",
    "        for i in range(len(df)):\n",
    "            if df_b.loc[i, x] > df.loc[i, x]:\n",
    "                df.loc[i, x] = df_b.loc[i, x]\n",
    "df"
   ]
  },
  {
   "cell_type": "code",
   "execution_count": 32,
   "metadata": {},
   "outputs": [
    {
     "name": "stdout",
     "output_type": "stream",
     "text": [
      "533 µs ± 7.51 µs per loop (mean ± std. dev. of 7 runs, 1000 loops each)\n"
     ]
    }
   ],
   "source": [
    "%%timeit\n",
    "df1 = df_a.copy()\n",
    "for x in df1.columns:\n",
    "    if x in df_b.columns:\n",
    "        df1[x] = np.where(df_a[x] < df_b[x], df_b[x], df_a[x])\n",
    "df1"
   ]
  },
  {
   "cell_type": "code",
   "execution_count": 35,
   "metadata": {},
   "outputs": [
    {
     "name": "stdout",
     "output_type": "stream",
     "text": [
      "1.68 ms ± 27 µs per loop (mean ± std. dev. of 7 runs, 1000 loops each)\n"
     ]
    }
   ],
   "source": [
    "%%timeit\n",
    "new_df = df_a.copy()\n",
    "for col in df_a.columns:\n",
    "    if col not in df_b.columns:\n",
    "        continue\n",
    "    new_df[col] = pd.concat([df_a[col], df_b[col]], axis=1).max(axis=1)\n",
    "new_df"
   ]
  },
  {
   "cell_type": "code",
   "execution_count": 52,
   "metadata": {},
   "outputs": [],
   "source": [
    "def max_common(df_a, df_b):\n",
    "    new_df = df_a.copy()\n",
    "    for col in df_a.columns:\n",
    "        if col not in df_b.columns:\n",
    "            continue\n",
    "        new_df[col] = pd.concat([df_a[col], df_b[col]], axis=1).max(axis=1)\n",
    "    return new_df"
   ]
  },
  {
   "cell_type": "code",
   "execution_count": 47,
   "metadata": {},
   "outputs": [
    {
     "name": "stdout",
     "output_type": "stream",
     "text": [
      "Collecting line_profiler\n",
      "\u001b[?25l  Downloading https://files.pythonhosted.org/packages/49/6e/f9b68108846582a1c7ec00d4039d46371065812bcbe1dc6a065049620b0b/line_profiler-3.1.0.tar.gz (45kB)\n",
      "\u001b[K     |████████████████████████████████| 51kB 3.1MB/s eta 0:00:011\n",
      "\u001b[?25h  Installing build dependencies ... \u001b[?25ldone\n",
      "\u001b[?25h  Getting requirements to build wheel ... \u001b[?25ldone\n",
      "\u001b[?25h    Preparing wheel metadata ... \u001b[?25ldone\n",
      "\u001b[?25hRequirement already satisfied: IPython in /opt/anaconda3/envs/learn-env/lib/python3.6/site-packages (from line_profiler) (7.8.0)\n",
      "Requirement already satisfied: jedi>=0.10 in /opt/anaconda3/envs/learn-env/lib/python3.6/site-packages (from IPython->line_profiler) (0.15.1)\n",
      "Requirement already satisfied: pygments in /opt/anaconda3/envs/learn-env/lib/python3.6/site-packages (from IPython->line_profiler) (2.4.2)\n",
      "Requirement already satisfied: backcall in /opt/anaconda3/envs/learn-env/lib/python3.6/site-packages (from IPython->line_profiler) (0.1.0)\n",
      "Requirement already satisfied: pexpect; sys_platform != \"win32\" in /opt/anaconda3/envs/learn-env/lib/python3.6/site-packages (from IPython->line_profiler) (4.7.0)\n",
      "Requirement already satisfied: prompt-toolkit<2.1.0,>=2.0.0 in /opt/anaconda3/envs/learn-env/lib/python3.6/site-packages (from IPython->line_profiler) (2.0.9)\n",
      "Requirement already satisfied: pickleshare in /opt/anaconda3/envs/learn-env/lib/python3.6/site-packages (from IPython->line_profiler) (0.7.5)\n",
      "Requirement already satisfied: decorator in /opt/anaconda3/envs/learn-env/lib/python3.6/site-packages (from IPython->line_profiler) (4.4.0)\n",
      "Requirement already satisfied: setuptools>=18.5 in /opt/anaconda3/envs/learn-env/lib/python3.6/site-packages (from IPython->line_profiler) (41.2.0)\n",
      "Requirement already satisfied: traitlets>=4.2 in /opt/anaconda3/envs/learn-env/lib/python3.6/site-packages (from IPython->line_profiler) (4.3.2)\n",
      "Requirement already satisfied: appnope; sys_platform == \"darwin\" in /opt/anaconda3/envs/learn-env/lib/python3.6/site-packages (from IPython->line_profiler) (0.1.0)\n",
      "Requirement already satisfied: parso>=0.5.0 in /opt/anaconda3/envs/learn-env/lib/python3.6/site-packages (from jedi>=0.10->IPython->line_profiler) (0.5.1)\n",
      "Requirement already satisfied: ptyprocess>=0.5 in /opt/anaconda3/envs/learn-env/lib/python3.6/site-packages (from pexpect; sys_platform != \"win32\"->IPython->line_profiler) (0.6.0)\n",
      "Requirement already satisfied: six>=1.9.0 in /opt/anaconda3/envs/learn-env/lib/python3.6/site-packages (from prompt-toolkit<2.1.0,>=2.0.0->IPython->line_profiler) (1.12.0)\n",
      "Requirement already satisfied: wcwidth in /opt/anaconda3/envs/learn-env/lib/python3.6/site-packages (from prompt-toolkit<2.1.0,>=2.0.0->IPython->line_profiler) (0.1.7)\n",
      "Requirement already satisfied: ipython_genutils in /opt/anaconda3/envs/learn-env/lib/python3.6/site-packages (from traitlets>=4.2->IPython->line_profiler) (0.2.0)\n",
      "Building wheels for collected packages: line-profiler\n",
      "  Building wheel for line-profiler (PEP 517) ... \u001b[?25ldone\n",
      "\u001b[?25h  Created wheel for line-profiler: filename=line_profiler-3.1.0-cp36-cp36m-macosx_10_15_x86_64.whl size=53830 sha256=5f10ea11775da8221f0da804acb09f80e4f117ee6482dc20b255c3c04b536beb\n",
      "  Stored in directory: /Users/jeffherman/Library/Caches/pip/wheels/28/ba/6e/e1686fd6ca7d0b0686e8fc4a7a1e3deff192a88d653756f9aa\n",
      "Successfully built line-profiler\n",
      "Installing collected packages: line-profiler\n",
      "Successfully installed line-profiler-3.1.0\n"
     ]
    }
   ],
   "source": [
    "!pip install line_profiler"
   ]
  },
  {
   "cell_type": "code",
   "execution_count": 48,
   "metadata": {},
   "outputs": [],
   "source": [
    "%load_ext line_profiler"
   ]
  },
  {
   "cell_type": "code",
   "execution_count": 56,
   "metadata": {},
   "outputs": [],
   "source": [
    "%lprun -f max_common max_common(df_a, df_b)"
   ]
  },
  {
   "cell_type": "markdown",
   "metadata": {},
   "source": [
    "#### def max_common1(df_a, df_b):\n",
    "    df1 = df_a.copy()\n",
    "    for x in df1.columns:\n",
    "        if x in df_b.columns:\n",
    "            df1[x] = np.where(df_a[x] < df_b[x], df_b[x], df_a[x])\n",
    "    return df1"
   ]
  },
  {
   "cell_type": "code",
   "execution_count": 55,
   "metadata": {},
   "outputs": [],
   "source": [
    "%lprun -f max_common1 max_common1(df_a, df_b)"
   ]
  },
  {
   "cell_type": "code",
   "execution_count": 31,
   "metadata": {},
   "outputs": [
    {
     "data": {
      "text/plain": [
       "datetime.datetime(2015, 5, 1, 0, 0)"
      ]
     },
     "execution_count": 31,
     "metadata": {},
     "output_type": "execute_result"
    }
   ],
   "source": [
    "import datetime as date\n",
    "date.datetime.strptime('May 1 2015','%b %d %Y')"
   ]
  },
  {
   "cell_type": "code",
   "execution_count": null,
   "metadata": {},
   "outputs": [],
   "source": []
  },
  {
   "cell_type": "code",
   "execution_count": null,
   "metadata": {},
   "outputs": [],
   "source": []
  },
  {
   "cell_type": "code",
   "execution_count": null,
   "metadata": {},
   "outputs": [],
   "source": []
  },
  {
   "cell_type": "code",
   "execution_count": 13,
   "metadata": {},
   "outputs": [],
   "source": [
    "import pandas as pd\n",
    "import matplotlib.pyplot as plt"
   ]
  },
  {
   "cell_type": "markdown",
   "metadata": {},
   "source": [
    "Data from [here](https://data.kcmo.org/Crime/KCPD-Crime-Data-2019/pxaa-ahcm)"
   ]
  },
  {
   "cell_type": "code",
   "execution_count": 14,
   "metadata": {},
   "outputs": [],
   "source": [
    "df = pd.read_csv('../../data/KCPD_Crime_Data_2019.csv')"
   ]
  },
  {
   "cell_type": "code",
   "execution_count": 15,
   "metadata": {},
   "outputs": [
    {
     "data": {
      "text/html": [
       "<div>\n",
       "<style scoped>\n",
       "    .dataframe tbody tr th:only-of-type {\n",
       "        vertical-align: middle;\n",
       "    }\n",
       "\n",
       "    .dataframe tbody tr th {\n",
       "        vertical-align: top;\n",
       "    }\n",
       "\n",
       "    .dataframe thead th {\n",
       "        text-align: right;\n",
       "    }\n",
       "</style>\n",
       "<table border=\"1\" class=\"dataframe\">\n",
       "  <thead>\n",
       "    <tr style=\"text-align: right;\">\n",
       "      <th></th>\n",
       "      <th>Report_No</th>\n",
       "      <th>Reported_Date</th>\n",
       "      <th>Reported_Time</th>\n",
       "      <th>From_Date</th>\n",
       "      <th>From_Time</th>\n",
       "      <th>To_Date</th>\n",
       "      <th>To_Time</th>\n",
       "      <th>Offense</th>\n",
       "      <th>IBRS</th>\n",
       "      <th>Description</th>\n",
       "      <th>...</th>\n",
       "      <th>Zip Code</th>\n",
       "      <th>Rep_Dist</th>\n",
       "      <th>Area</th>\n",
       "      <th>DVFlag</th>\n",
       "      <th>Involvement</th>\n",
       "      <th>Race</th>\n",
       "      <th>Sex</th>\n",
       "      <th>Age</th>\n",
       "      <th>Firearm Used Flag</th>\n",
       "      <th>Location</th>\n",
       "    </tr>\n",
       "  </thead>\n",
       "  <tbody>\n",
       "    <tr>\n",
       "      <th>0</th>\n",
       "      <td>KC19019972</td>\n",
       "      <td>03/19/2019</td>\n",
       "      <td>08:48</td>\n",
       "      <td>03/19/2019</td>\n",
       "      <td>08:48</td>\n",
       "      <td>03/19/2019</td>\n",
       "      <td>09:33</td>\n",
       "      <td>Vehicular – Non-Injury</td>\n",
       "      <td>NaN</td>\n",
       "      <td>NaN</td>\n",
       "      <td>...</td>\n",
       "      <td>64161.0</td>\n",
       "      <td>PC1239</td>\n",
       "      <td>SCP</td>\n",
       "      <td>N</td>\n",
       "      <td>ARR CHA VDR</td>\n",
       "      <td>W</td>\n",
       "      <td>F</td>\n",
       "      <td>41.0</td>\n",
       "      <td>False</td>\n",
       "      <td>NaN</td>\n",
       "    </tr>\n",
       "    <tr>\n",
       "      <th>1</th>\n",
       "      <td>KC19020439</td>\n",
       "      <td>03/20/2019</td>\n",
       "      <td>17:11</td>\n",
       "      <td>03/20/2019</td>\n",
       "      <td>17:30</td>\n",
       "      <td>NaN</td>\n",
       "      <td>NaN</td>\n",
       "      <td>City/Municipal Warrant Arrest</td>\n",
       "      <td>NaN</td>\n",
       "      <td>NaN</td>\n",
       "      <td>...</td>\n",
       "      <td>64068.0</td>\n",
       "      <td>NaN</td>\n",
       "      <td>OSPD</td>\n",
       "      <td>N</td>\n",
       "      <td>ARR CHA SUS</td>\n",
       "      <td>W</td>\n",
       "      <td>M</td>\n",
       "      <td>31.0</td>\n",
       "      <td>False</td>\n",
       "      <td>NaN</td>\n",
       "    </tr>\n",
       "    <tr>\n",
       "      <th>2</th>\n",
       "      <td>KC19021179</td>\n",
       "      <td>03/23/2019</td>\n",
       "      <td>09:40</td>\n",
       "      <td>03/23/2019</td>\n",
       "      <td>09:40</td>\n",
       "      <td>NaN</td>\n",
       "      <td>NaN</td>\n",
       "      <td>Vehicular – Injury</td>\n",
       "      <td>NaN</td>\n",
       "      <td>NaN</td>\n",
       "      <td>...</td>\n",
       "      <td>64155.0</td>\n",
       "      <td>PC0277</td>\n",
       "      <td>NPD</td>\n",
       "      <td>N</td>\n",
       "      <td>ARR CHA VDR</td>\n",
       "      <td>W</td>\n",
       "      <td>M</td>\n",
       "      <td>41.0</td>\n",
       "      <td>False</td>\n",
       "      <td>NaN</td>\n",
       "    </tr>\n",
       "    <tr>\n",
       "      <th>3</th>\n",
       "      <td>KC19021555</td>\n",
       "      <td>03/25/2019</td>\n",
       "      <td>07:35</td>\n",
       "      <td>03/25/2019</td>\n",
       "      <td>09:09</td>\n",
       "      <td>NaN</td>\n",
       "      <td>NaN</td>\n",
       "      <td>Possession/Sale/Distribution of a Controlled S...</td>\n",
       "      <td>35A</td>\n",
       "      <td>Drug / Narcotic Violations</td>\n",
       "      <td>...</td>\n",
       "      <td>64108.0</td>\n",
       "      <td>PJ1831</td>\n",
       "      <td>CPD</td>\n",
       "      <td>N</td>\n",
       "      <td>ARR CHA SUS</td>\n",
       "      <td>B</td>\n",
       "      <td>M</td>\n",
       "      <td>31.0</td>\n",
       "      <td>False</td>\n",
       "      <td>NaN</td>\n",
       "    </tr>\n",
       "    <tr>\n",
       "      <th>4</th>\n",
       "      <td>KC19021815</td>\n",
       "      <td>03/26/2019</td>\n",
       "      <td>06:04</td>\n",
       "      <td>03/26/2019</td>\n",
       "      <td>07:20</td>\n",
       "      <td>03/26/2019</td>\n",
       "      <td>08:00</td>\n",
       "      <td>Stealing – Shoplift</td>\n",
       "      <td>23C</td>\n",
       "      <td>Shoplifting</td>\n",
       "      <td>...</td>\n",
       "      <td>64133.0</td>\n",
       "      <td>PJ3601</td>\n",
       "      <td>EPD</td>\n",
       "      <td>N</td>\n",
       "      <td>VIC</td>\n",
       "      <td>NaN</td>\n",
       "      <td>NaN</td>\n",
       "      <td>NaN</td>\n",
       "      <td>False</td>\n",
       "      <td>NaN</td>\n",
       "    </tr>\n",
       "  </tbody>\n",
       "</table>\n",
       "<p>5 rows × 23 columns</p>\n",
       "</div>"
      ],
      "text/plain": [
       "    Report_No Reported_Date Reported_Time   From_Date From_Time     To_Date  \\\n",
       "0  KC19019972    03/19/2019         08:48  03/19/2019     08:48  03/19/2019   \n",
       "1  KC19020439    03/20/2019         17:11  03/20/2019     17:30         NaN   \n",
       "2  KC19021179    03/23/2019         09:40  03/23/2019     09:40         NaN   \n",
       "3  KC19021555    03/25/2019         07:35  03/25/2019     09:09         NaN   \n",
       "4  KC19021815    03/26/2019         06:04  03/26/2019     07:20  03/26/2019   \n",
       "\n",
       "  To_Time                                            Offense IBRS  \\\n",
       "0   09:33                             Vehicular – Non-Injury  NaN   \n",
       "1     NaN                      City/Municipal Warrant Arrest  NaN   \n",
       "2     NaN                                 Vehicular – Injury  NaN   \n",
       "3     NaN  Possession/Sale/Distribution of a Controlled S...  35A   \n",
       "4   08:00                                Stealing – Shoplift  23C   \n",
       "\n",
       "                  Description  ... Zip Code Rep_Dist  Area  DVFlag  \\\n",
       "0                         NaN  ...  64161.0   PC1239   SCP       N   \n",
       "1                         NaN  ...  64068.0      NaN  OSPD       N   \n",
       "2                         NaN  ...  64155.0   PC0277   NPD       N   \n",
       "3  Drug / Narcotic Violations  ...  64108.0   PJ1831   CPD       N   \n",
       "4                 Shoplifting  ...  64133.0   PJ3601   EPD       N   \n",
       "\n",
       "   Involvement Race  Sex   Age Firearm Used Flag Location  \n",
       "0  ARR CHA VDR    W    F  41.0             False      NaN  \n",
       "1  ARR CHA SUS    W    M  31.0             False      NaN  \n",
       "2  ARR CHA VDR    W    M  41.0             False      NaN  \n",
       "3  ARR CHA SUS    B    M  31.0             False      NaN  \n",
       "4          VIC  NaN  NaN   NaN             False      NaN  \n",
       "\n",
       "[5 rows x 23 columns]"
      ]
     },
     "execution_count": 15,
     "metadata": {},
     "output_type": "execute_result"
    }
   ],
   "source": [
    "df.head()"
   ]
  },
  {
   "cell_type": "code",
   "execution_count": 16,
   "metadata": {},
   "outputs": [
    {
     "data": {
      "text/plain": [
       "(78046, 23)"
      ]
     },
     "execution_count": 16,
     "metadata": {},
     "output_type": "execute_result"
    }
   ],
   "source": [
    "df.shape"
   ]
  },
  {
   "cell_type": "markdown",
   "metadata": {},
   "source": [
    "### What is a Time Series?"
   ]
  },
  {
   "cell_type": "markdown",
   "metadata": {},
   "source": [
    "A time series is a sequence of numerical data points in successive order."
   ]
  },
  {
   "cell_type": "code",
   "execution_count": 17,
   "metadata": {},
   "outputs": [
    {
     "data": {
      "text/html": [
       "<div>\n",
       "<style scoped>\n",
       "    .dataframe tbody tr th:only-of-type {\n",
       "        vertical-align: middle;\n",
       "    }\n",
       "\n",
       "    .dataframe tbody tr th {\n",
       "        vertical-align: top;\n",
       "    }\n",
       "\n",
       "    .dataframe thead th {\n",
       "        text-align: right;\n",
       "    }\n",
       "</style>\n",
       "<table border=\"1\" class=\"dataframe\">\n",
       "  <thead>\n",
       "    <tr style=\"text-align: right;\">\n",
       "      <th></th>\n",
       "      <th>Report_No</th>\n",
       "      <th>Reported_Date</th>\n",
       "      <th>Reported_Time</th>\n",
       "      <th>From_Date</th>\n",
       "      <th>From_Time</th>\n",
       "      <th>To_Date</th>\n",
       "      <th>To_Time</th>\n",
       "      <th>Offense</th>\n",
       "      <th>IBRS</th>\n",
       "      <th>Description</th>\n",
       "      <th>...</th>\n",
       "      <th>Zip Code</th>\n",
       "      <th>Rep_Dist</th>\n",
       "      <th>Area</th>\n",
       "      <th>DVFlag</th>\n",
       "      <th>Involvement</th>\n",
       "      <th>Race</th>\n",
       "      <th>Sex</th>\n",
       "      <th>Age</th>\n",
       "      <th>Firearm Used Flag</th>\n",
       "      <th>Location</th>\n",
       "    </tr>\n",
       "  </thead>\n",
       "  <tbody>\n",
       "    <tr>\n",
       "      <th>0</th>\n",
       "      <td>KC19019972</td>\n",
       "      <td>03/19/2019</td>\n",
       "      <td>08:48</td>\n",
       "      <td>03/19/2019</td>\n",
       "      <td>08:48</td>\n",
       "      <td>03/19/2019</td>\n",
       "      <td>09:33</td>\n",
       "      <td>Vehicular – Non-Injury</td>\n",
       "      <td>NaN</td>\n",
       "      <td>NaN</td>\n",
       "      <td>...</td>\n",
       "      <td>64161.0</td>\n",
       "      <td>PC1239</td>\n",
       "      <td>SCP</td>\n",
       "      <td>N</td>\n",
       "      <td>ARR CHA VDR</td>\n",
       "      <td>W</td>\n",
       "      <td>F</td>\n",
       "      <td>41.0</td>\n",
       "      <td>False</td>\n",
       "      <td>NaN</td>\n",
       "    </tr>\n",
       "    <tr>\n",
       "      <th>674</th>\n",
       "      <td>KC19019969</td>\n",
       "      <td>03/19/2019</td>\n",
       "      <td>08:57</td>\n",
       "      <td>03/17/2019</td>\n",
       "      <td>04:13</td>\n",
       "      <td>NaN</td>\n",
       "      <td>NaN</td>\n",
       "      <td>Stealing from Auto (Theft from Auto)</td>\n",
       "      <td>23F</td>\n",
       "      <td>Theft From Motor Vehicle</td>\n",
       "      <td>...</td>\n",
       "      <td>64116.0</td>\n",
       "      <td>PC1248</td>\n",
       "      <td>NPD</td>\n",
       "      <td>N</td>\n",
       "      <td>CMP VIC</td>\n",
       "      <td>W</td>\n",
       "      <td>M</td>\n",
       "      <td>55.0</td>\n",
       "      <td>False</td>\n",
       "      <td>3900  N CENTRAL ST\\nKANSAS CITY 64116\\n(39.164...</td>\n",
       "    </tr>\n",
       "    <tr>\n",
       "      <th>822</th>\n",
       "      <td>KC19020110</td>\n",
       "      <td>03/19/2019</td>\n",
       "      <td>16:20</td>\n",
       "      <td>03/19/2019</td>\n",
       "      <td>16:20</td>\n",
       "      <td>NaN</td>\n",
       "      <td>NaN</td>\n",
       "      <td>Domestic Violence Assault (Non-Aggravated)</td>\n",
       "      <td>13B</td>\n",
       "      <td>Simple Assault</td>\n",
       "      <td>...</td>\n",
       "      <td>64157.0</td>\n",
       "      <td>PC0213</td>\n",
       "      <td>SCP</td>\n",
       "      <td>Y</td>\n",
       "      <td>ARR CHA SUS</td>\n",
       "      <td>W</td>\n",
       "      <td>M</td>\n",
       "      <td>NaN</td>\n",
       "      <td>False</td>\n",
       "      <td>9600  NE 98TH ST\\nKANSAS CITY 64157\\n(39.27089...</td>\n",
       "    </tr>\n",
       "    <tr>\n",
       "      <th>1134</th>\n",
       "      <td>KC19020048</td>\n",
       "      <td>03/19/2019</td>\n",
       "      <td>12:14</td>\n",
       "      <td>03/18/2019</td>\n",
       "      <td>22:00</td>\n",
       "      <td>03/19/2019</td>\n",
       "      <td>12:14</td>\n",
       "      <td>Domestic Violence Assault (Non-Aggravated)</td>\n",
       "      <td>13A</td>\n",
       "      <td>Aggravated Assault</td>\n",
       "      <td>...</td>\n",
       "      <td>64118.0</td>\n",
       "      <td>PC0599</td>\n",
       "      <td>NPD</td>\n",
       "      <td>Y</td>\n",
       "      <td>VIC</td>\n",
       "      <td>W</td>\n",
       "      <td>F</td>\n",
       "      <td>43.0</td>\n",
       "      <td>False</td>\n",
       "      <td>6200  N PENNSYLVANIA DR\\nKANSAS CITY 64118\\n(3...</td>\n",
       "    </tr>\n",
       "    <tr>\n",
       "      <th>1276</th>\n",
       "      <td>KC19020191</td>\n",
       "      <td>03/19/2019</td>\n",
       "      <td>19:34</td>\n",
       "      <td>03/19/2019</td>\n",
       "      <td>19:29</td>\n",
       "      <td>NaN</td>\n",
       "      <td>NaN</td>\n",
       "      <td>Trespass of Real Property</td>\n",
       "      <td>90J</td>\n",
       "      <td>Trespass of Real Property</td>\n",
       "      <td>...</td>\n",
       "      <td>64117.0</td>\n",
       "      <td>PC1221</td>\n",
       "      <td>SCP</td>\n",
       "      <td>N</td>\n",
       "      <td>ARR CHA SUS</td>\n",
       "      <td>W</td>\n",
       "      <td>F</td>\n",
       "      <td>30.0</td>\n",
       "      <td>False</td>\n",
       "      <td>2600  NE 42ND ST\\nKANSAS CITY 64117\\n(39.16972...</td>\n",
       "    </tr>\n",
       "    <tr>\n",
       "      <th>...</th>\n",
       "      <td>...</td>\n",
       "      <td>...</td>\n",
       "      <td>...</td>\n",
       "      <td>...</td>\n",
       "      <td>...</td>\n",
       "      <td>...</td>\n",
       "      <td>...</td>\n",
       "      <td>...</td>\n",
       "      <td>...</td>\n",
       "      <td>...</td>\n",
       "      <td>...</td>\n",
       "      <td>...</td>\n",
       "      <td>...</td>\n",
       "      <td>...</td>\n",
       "      <td>...</td>\n",
       "      <td>...</td>\n",
       "      <td>...</td>\n",
       "      <td>...</td>\n",
       "      <td>...</td>\n",
       "      <td>...</td>\n",
       "      <td>...</td>\n",
       "    </tr>\n",
       "    <tr>\n",
       "      <th>16642</th>\n",
       "      <td>KC19020050</td>\n",
       "      <td>03/19/2019</td>\n",
       "      <td>12:56</td>\n",
       "      <td>01/14/2019</td>\n",
       "      <td>16:19</td>\n",
       "      <td>02/19/2019</td>\n",
       "      <td>14:18</td>\n",
       "      <td>Fraudulent Use of a Credit Device</td>\n",
       "      <td>26B</td>\n",
       "      <td>Credit Card / Automatic Teller</td>\n",
       "      <td>...</td>\n",
       "      <td>64118.0</td>\n",
       "      <td>PC0844</td>\n",
       "      <td>SCP</td>\n",
       "      <td>N</td>\n",
       "      <td>VIC</td>\n",
       "      <td>NaN</td>\n",
       "      <td>NaN</td>\n",
       "      <td>NaN</td>\n",
       "      <td>False</td>\n",
       "      <td>2500  NE VIVION RD\\nKANSAS CITY 64118\\n(39.185...</td>\n",
       "    </tr>\n",
       "    <tr>\n",
       "      <th>16645</th>\n",
       "      <td>KC19020181</td>\n",
       "      <td>03/19/2019</td>\n",
       "      <td>19:58</td>\n",
       "      <td>03/04/2019</td>\n",
       "      <td>15:30</td>\n",
       "      <td>03/04/2019</td>\n",
       "      <td>20:00</td>\n",
       "      <td>Stealing – Other</td>\n",
       "      <td>23H</td>\n",
       "      <td>All Other Larceny</td>\n",
       "      <td>...</td>\n",
       "      <td>64151.0</td>\n",
       "      <td>NaN</td>\n",
       "      <td>NPD</td>\n",
       "      <td>N</td>\n",
       "      <td>VIC</td>\n",
       "      <td>W</td>\n",
       "      <td>M</td>\n",
       "      <td>27.0</td>\n",
       "      <td>False</td>\n",
       "      <td>8300  N ST CLAIR AVE\\nKANSAS CITY 64151\\n(39.2...</td>\n",
       "    </tr>\n",
       "    <tr>\n",
       "      <th>16733</th>\n",
       "      <td>KC19020211</td>\n",
       "      <td>03/19/2019</td>\n",
       "      <td>21:03</td>\n",
       "      <td>03/19/2019</td>\n",
       "      <td>21:03</td>\n",
       "      <td>NaN</td>\n",
       "      <td>NaN</td>\n",
       "      <td>Stealing – Shoplift</td>\n",
       "      <td>23C</td>\n",
       "      <td>Shoplifting</td>\n",
       "      <td>...</td>\n",
       "      <td>64157.0</td>\n",
       "      <td>PC0282</td>\n",
       "      <td>SCP</td>\n",
       "      <td>N</td>\n",
       "      <td>ARR CHA</td>\n",
       "      <td>W</td>\n",
       "      <td>M</td>\n",
       "      <td>34.0</td>\n",
       "      <td>False</td>\n",
       "      <td>8500  N CHURCH RD\\nKANSAS CITY 64157\\n(39.2460...</td>\n",
       "    </tr>\n",
       "    <tr>\n",
       "      <th>16803</th>\n",
       "      <td>KC19020007</td>\n",
       "      <td>03/19/2019</td>\n",
       "      <td>10:56</td>\n",
       "      <td>12/23/2018</td>\n",
       "      <td>15:58</td>\n",
       "      <td>03/19/2019</td>\n",
       "      <td>10:00</td>\n",
       "      <td>Harassment / Intimidation - Sex Crimes</td>\n",
       "      <td>NaN</td>\n",
       "      <td>NaN</td>\n",
       "      <td>...</td>\n",
       "      <td>64119.0</td>\n",
       "      <td>PC0957</td>\n",
       "      <td>SCP</td>\n",
       "      <td>N</td>\n",
       "      <td>VIC</td>\n",
       "      <td>W</td>\n",
       "      <td>F</td>\n",
       "      <td>38.0</td>\n",
       "      <td>False</td>\n",
       "      <td>4900  N FREMONT AVE\\nKANSAS CITY 64119\\n(39.18...</td>\n",
       "    </tr>\n",
       "    <tr>\n",
       "      <th>17133</th>\n",
       "      <td>KC19020106</td>\n",
       "      <td>03/19/2019</td>\n",
       "      <td>16:22</td>\n",
       "      <td>03/19/2019</td>\n",
       "      <td>13:30</td>\n",
       "      <td>03/19/2019</td>\n",
       "      <td>16:00</td>\n",
       "      <td>Stealing from Auto (Theft from Auto)</td>\n",
       "      <td>23H</td>\n",
       "      <td>All Other Larceny</td>\n",
       "      <td>...</td>\n",
       "      <td>64153.0</td>\n",
       "      <td>PP0317</td>\n",
       "      <td>NPD</td>\n",
       "      <td>N</td>\n",
       "      <td>VIC</td>\n",
       "      <td>W</td>\n",
       "      <td>F</td>\n",
       "      <td>36.0</td>\n",
       "      <td>False</td>\n",
       "      <td>8500  NW PRAIRIE VIEW RD\\nKANSAS CITY 64153\\n(...</td>\n",
       "    </tr>\n",
       "  </tbody>\n",
       "</table>\n",
       "<p>65 rows × 23 columns</p>\n",
       "</div>"
      ],
      "text/plain": [
       "        Report_No Reported_Date Reported_Time   From_Date From_Time  \\\n",
       "0      KC19019972    03/19/2019         08:48  03/19/2019     08:48   \n",
       "674    KC19019969    03/19/2019         08:57  03/17/2019     04:13   \n",
       "822    KC19020110    03/19/2019         16:20  03/19/2019     16:20   \n",
       "1134   KC19020048    03/19/2019         12:14  03/18/2019     22:00   \n",
       "1276   KC19020191    03/19/2019         19:34  03/19/2019     19:29   \n",
       "...           ...           ...           ...         ...       ...   \n",
       "16642  KC19020050    03/19/2019         12:56  01/14/2019     16:19   \n",
       "16645  KC19020181    03/19/2019         19:58  03/04/2019     15:30   \n",
       "16733  KC19020211    03/19/2019         21:03  03/19/2019     21:03   \n",
       "16803  KC19020007    03/19/2019         10:56  12/23/2018     15:58   \n",
       "17133  KC19020106    03/19/2019         16:22  03/19/2019     13:30   \n",
       "\n",
       "          To_Date To_Time                                     Offense IBRS  \\\n",
       "0      03/19/2019   09:33                      Vehicular – Non-Injury  NaN   \n",
       "674           NaN     NaN        Stealing from Auto (Theft from Auto)  23F   \n",
       "822           NaN     NaN  Domestic Violence Assault (Non-Aggravated)  13B   \n",
       "1134   03/19/2019   12:14  Domestic Violence Assault (Non-Aggravated)  13A   \n",
       "1276          NaN     NaN                   Trespass of Real Property  90J   \n",
       "...           ...     ...                                         ...  ...   \n",
       "16642  02/19/2019   14:18           Fraudulent Use of a Credit Device  26B   \n",
       "16645  03/04/2019   20:00                            Stealing – Other  23H   \n",
       "16733         NaN     NaN                         Stealing – Shoplift  23C   \n",
       "16803  03/19/2019   10:00      Harassment / Intimidation - Sex Crimes  NaN   \n",
       "17133  03/19/2019   16:00        Stealing from Auto (Theft from Auto)  23H   \n",
       "\n",
       "                          Description  ... Zip Code Rep_Dist Area  DVFlag  \\\n",
       "0                                 NaN  ...  64161.0   PC1239  SCP       N   \n",
       "674          Theft From Motor Vehicle  ...  64116.0   PC1248  NPD       N   \n",
       "822                    Simple Assault  ...  64157.0   PC0213  SCP       Y   \n",
       "1134               Aggravated Assault  ...  64118.0   PC0599  NPD       Y   \n",
       "1276        Trespass of Real Property  ...  64117.0   PC1221  SCP       N   \n",
       "...                               ...  ...      ...      ...  ...     ...   \n",
       "16642  Credit Card / Automatic Teller  ...  64118.0   PC0844  SCP       N   \n",
       "16645               All Other Larceny  ...  64151.0      NaN  NPD       N   \n",
       "16733                     Shoplifting  ...  64157.0   PC0282  SCP       N   \n",
       "16803                             NaN  ...  64119.0   PC0957  SCP       N   \n",
       "17133               All Other Larceny  ...  64153.0   PP0317  NPD       N   \n",
       "\n",
       "       Involvement Race  Sex   Age Firearm Used Flag  \\\n",
       "0      ARR CHA VDR    W    F  41.0             False   \n",
       "674        CMP VIC    W    M  55.0             False   \n",
       "822    ARR CHA SUS    W    M   NaN             False   \n",
       "1134           VIC    W    F  43.0             False   \n",
       "1276   ARR CHA SUS    W    F  30.0             False   \n",
       "...            ...  ...  ...   ...               ...   \n",
       "16642          VIC  NaN  NaN   NaN             False   \n",
       "16645          VIC    W    M  27.0             False   \n",
       "16733      ARR CHA    W    M  34.0             False   \n",
       "16803          VIC    W    F  38.0             False   \n",
       "17133          VIC    W    F  36.0             False   \n",
       "\n",
       "                                                Location  \n",
       "0                                                    NaN  \n",
       "674    3900  N CENTRAL ST\\nKANSAS CITY 64116\\n(39.164...  \n",
       "822    9600  NE 98TH ST\\nKANSAS CITY 64157\\n(39.27089...  \n",
       "1134   6200  N PENNSYLVANIA DR\\nKANSAS CITY 64118\\n(3...  \n",
       "1276   2600  NE 42ND ST\\nKANSAS CITY 64117\\n(39.16972...  \n",
       "...                                                  ...  \n",
       "16642  2500  NE VIVION RD\\nKANSAS CITY 64118\\n(39.185...  \n",
       "16645  8300  N ST CLAIR AVE\\nKANSAS CITY 64151\\n(39.2...  \n",
       "16733  8500  N CHURCH RD\\nKANSAS CITY 64157\\n(39.2460...  \n",
       "16803  4900  N FREMONT AVE\\nKANSAS CITY 64119\\n(39.18...  \n",
       "17133  8500  NW PRAIRIE VIEW RD\\nKANSAS CITY 64153\\n(...  \n",
       "\n",
       "[65 rows x 23 columns]"
      ]
     },
     "execution_count": 17,
     "metadata": {},
     "output_type": "execute_result"
    }
   ],
   "source": [
    "df[df['Reported_Date'] == '03/19/2019']"
   ]
  },
  {
   "cell_type": "code",
   "execution_count": 18,
   "metadata": {},
   "outputs": [
    {
     "data": {
      "text/plain": [
       "Domestic Violence Assault (Non-Aggravated)    6232\n",
       "Assault (Aggravated)                          4558\n",
       "Stolen Auto                                   4504\n",
       "Stealing – Shoplift                           4435\n",
       "Property Damage                               4344\n",
       "Name: Offense, dtype: int64"
      ]
     },
     "execution_count": 18,
     "metadata": {},
     "output_type": "execute_result"
    }
   ],
   "source": [
    "df['Offense'].value_counts().head()"
   ]
  },
  {
   "cell_type": "code",
   "execution_count": 19,
   "metadata": {},
   "outputs": [
    {
     "data": {
      "text/html": [
       "<div>\n",
       "<style scoped>\n",
       "    .dataframe tbody tr th:only-of-type {\n",
       "        vertical-align: middle;\n",
       "    }\n",
       "\n",
       "    .dataframe tbody tr th {\n",
       "        vertical-align: top;\n",
       "    }\n",
       "\n",
       "    .dataframe thead th {\n",
       "        text-align: right;\n",
       "    }\n",
       "</style>\n",
       "<table border=\"1\" class=\"dataframe\">\n",
       "  <thead>\n",
       "    <tr style=\"text-align: right;\">\n",
       "      <th></th>\n",
       "      <th>Report_No</th>\n",
       "      <th>Reported_Date</th>\n",
       "      <th>Reported_Time</th>\n",
       "      <th>From_Date</th>\n",
       "      <th>From_Time</th>\n",
       "      <th>To_Date</th>\n",
       "      <th>To_Time</th>\n",
       "      <th>Offense</th>\n",
       "      <th>IBRS</th>\n",
       "      <th>Description</th>\n",
       "      <th>...</th>\n",
       "      <th>Zip Code</th>\n",
       "      <th>Rep_Dist</th>\n",
       "      <th>Area</th>\n",
       "      <th>DVFlag</th>\n",
       "      <th>Involvement</th>\n",
       "      <th>Race</th>\n",
       "      <th>Sex</th>\n",
       "      <th>Age</th>\n",
       "      <th>Firearm Used Flag</th>\n",
       "      <th>Location</th>\n",
       "    </tr>\n",
       "  </thead>\n",
       "  <tbody>\n",
       "    <tr>\n",
       "      <th>5</th>\n",
       "      <td>KC19021991</td>\n",
       "      <td>03/26/2019</td>\n",
       "      <td>17:49</td>\n",
       "      <td>03/25/2019</td>\n",
       "      <td>20:10</td>\n",
       "      <td>NaN</td>\n",
       "      <td>NaN</td>\n",
       "      <td>Property Damage</td>\n",
       "      <td>290</td>\n",
       "      <td>Vandalism/Destruction of Property</td>\n",
       "      <td>...</td>\n",
       "      <td>64133.0</td>\n",
       "      <td>NaN</td>\n",
       "      <td>MPD</td>\n",
       "      <td>N</td>\n",
       "      <td>VIC</td>\n",
       "      <td>B</td>\n",
       "      <td>M</td>\n",
       "      <td>61.0</td>\n",
       "      <td>False</td>\n",
       "      <td>NaN</td>\n",
       "    </tr>\n",
       "    <tr>\n",
       "      <th>33</th>\n",
       "      <td>KC19024382</td>\n",
       "      <td>04/04/2019</td>\n",
       "      <td>08:27</td>\n",
       "      <td>04/03/2019</td>\n",
       "      <td>20:56</td>\n",
       "      <td>04/03/2019</td>\n",
       "      <td>21:04</td>\n",
       "      <td>Property Damage</td>\n",
       "      <td>290</td>\n",
       "      <td>Vandalism/Destruction of Property</td>\n",
       "      <td>...</td>\n",
       "      <td>64108.0</td>\n",
       "      <td>PJ2072</td>\n",
       "      <td>CPD</td>\n",
       "      <td>N</td>\n",
       "      <td>VIC</td>\n",
       "      <td>NaN</td>\n",
       "      <td>NaN</td>\n",
       "      <td>NaN</td>\n",
       "      <td>False</td>\n",
       "      <td>NaN</td>\n",
       "    </tr>\n",
       "    <tr>\n",
       "      <th>47</th>\n",
       "      <td>KC19026110</td>\n",
       "      <td>04/10/2019</td>\n",
       "      <td>14:36</td>\n",
       "      <td>04/05/2019</td>\n",
       "      <td>12:30</td>\n",
       "      <td>NaN</td>\n",
       "      <td>NaN</td>\n",
       "      <td>Property Damage</td>\n",
       "      <td>290</td>\n",
       "      <td>Vandalism/Destruction of Property</td>\n",
       "      <td>...</td>\n",
       "      <td>64118.0</td>\n",
       "      <td>PC1221</td>\n",
       "      <td>SCP</td>\n",
       "      <td>N</td>\n",
       "      <td>VIC</td>\n",
       "      <td>NaN</td>\n",
       "      <td>NaN</td>\n",
       "      <td>NaN</td>\n",
       "      <td>False</td>\n",
       "      <td>NaN</td>\n",
       "    </tr>\n",
       "    <tr>\n",
       "      <th>66</th>\n",
       "      <td>KC19027946</td>\n",
       "      <td>04/17/2019</td>\n",
       "      <td>09:07</td>\n",
       "      <td>04/15/2019</td>\n",
       "      <td>18:00</td>\n",
       "      <td>04/15/2019</td>\n",
       "      <td>23:50</td>\n",
       "      <td>Property Damage</td>\n",
       "      <td>290</td>\n",
       "      <td>Vandalism/Destruction of Property</td>\n",
       "      <td>...</td>\n",
       "      <td>64119.0</td>\n",
       "      <td>PC1231</td>\n",
       "      <td>SCP</td>\n",
       "      <td>N</td>\n",
       "      <td>VIC</td>\n",
       "      <td>W</td>\n",
       "      <td>M</td>\n",
       "      <td>69.0</td>\n",
       "      <td>False</td>\n",
       "      <td>NaN</td>\n",
       "    </tr>\n",
       "    <tr>\n",
       "      <th>145</th>\n",
       "      <td>KC19037132</td>\n",
       "      <td>05/20/2019</td>\n",
       "      <td>10:54</td>\n",
       "      <td>05/10/2019</td>\n",
       "      <td>01:00</td>\n",
       "      <td>05/10/2019</td>\n",
       "      <td>01:00</td>\n",
       "      <td>Property Damage</td>\n",
       "      <td>290</td>\n",
       "      <td>Vandalism/Destruction of Property</td>\n",
       "      <td>...</td>\n",
       "      <td>64127.0</td>\n",
       "      <td>NaN</td>\n",
       "      <td>EPD</td>\n",
       "      <td>N</td>\n",
       "      <td>SUS</td>\n",
       "      <td>B</td>\n",
       "      <td>M</td>\n",
       "      <td>NaN</td>\n",
       "      <td>False</td>\n",
       "      <td>NaN</td>\n",
       "    </tr>\n",
       "  </tbody>\n",
       "</table>\n",
       "<p>5 rows × 23 columns</p>\n",
       "</div>"
      ],
      "text/plain": [
       "      Report_No Reported_Date Reported_Time   From_Date From_Time     To_Date  \\\n",
       "5    KC19021991    03/26/2019         17:49  03/25/2019     20:10         NaN   \n",
       "33   KC19024382    04/04/2019         08:27  04/03/2019     20:56  04/03/2019   \n",
       "47   KC19026110    04/10/2019         14:36  04/05/2019     12:30         NaN   \n",
       "66   KC19027946    04/17/2019         09:07  04/15/2019     18:00  04/15/2019   \n",
       "145  KC19037132    05/20/2019         10:54  05/10/2019     01:00  05/10/2019   \n",
       "\n",
       "    To_Time          Offense IBRS                        Description  ...  \\\n",
       "5       NaN  Property Damage  290  Vandalism/Destruction of Property  ...   \n",
       "33    21:04  Property Damage  290  Vandalism/Destruction of Property  ...   \n",
       "47      NaN  Property Damage  290  Vandalism/Destruction of Property  ...   \n",
       "66    23:50  Property Damage  290  Vandalism/Destruction of Property  ...   \n",
       "145   01:00  Property Damage  290  Vandalism/Destruction of Property  ...   \n",
       "\n",
       "    Zip Code Rep_Dist Area  DVFlag Involvement Race  Sex   Age  \\\n",
       "5    64133.0      NaN  MPD       N         VIC    B    M  61.0   \n",
       "33   64108.0   PJ2072  CPD       N         VIC  NaN  NaN   NaN   \n",
       "47   64118.0   PC1221  SCP       N         VIC  NaN  NaN   NaN   \n",
       "66   64119.0   PC1231  SCP       N         VIC    W    M  69.0   \n",
       "145  64127.0      NaN  EPD       N         SUS    B    M   NaN   \n",
       "\n",
       "    Firearm Used Flag Location  \n",
       "5               False      NaN  \n",
       "33              False      NaN  \n",
       "47              False      NaN  \n",
       "66              False      NaN  \n",
       "145             False      NaN  \n",
       "\n",
       "[5 rows x 23 columns]"
      ]
     },
     "execution_count": 19,
     "metadata": {},
     "output_type": "execute_result"
    }
   ],
   "source": [
    "df_pd = df[df['Offense'] == 'Property Damage'].copy()\n",
    "df_pd.head()"
   ]
  },
  {
   "cell_type": "code",
   "execution_count": 20,
   "metadata": {},
   "outputs": [
    {
     "data": {
      "text/plain": [
       "Index(['Report_No', 'Reported_Date', 'Reported_Time', 'From_Date', 'From_Time',\n",
       "       'To_Date', 'To_Time', 'Offense', 'IBRS', 'Description', 'Beat',\n",
       "       'Address', 'City', 'Zip Code', 'Rep_Dist', 'Area', 'DVFlag',\n",
       "       'Involvement', 'Race', 'Sex', 'Age', 'Firearm Used Flag', 'Location'],\n",
       "      dtype='object')"
      ]
     },
     "execution_count": 20,
     "metadata": {},
     "output_type": "execute_result"
    }
   ],
   "source": [
    "df_pd.columns"
   ]
  },
  {
   "cell_type": "code",
   "execution_count": 21,
   "metadata": {},
   "outputs": [
    {
     "data": {
      "text/plain": [
       "Report_No               0\n",
       "Reported_Date           0\n",
       "Reported_Time           0\n",
       "From_Date               0\n",
       "From_Time               0\n",
       "To_Date              2413\n",
       "To_Time              2418\n",
       "Offense                 0\n",
       "IBRS                  341\n",
       "Description           341\n",
       "Beat                   76\n",
       "Address                 0\n",
       "City                    0\n",
       "Zip Code              801\n",
       "Rep_Dist             1599\n",
       "Area                  118\n",
       "DVFlag                  0\n",
       "Involvement             0\n",
       "Race                  796\n",
       "Sex                   752\n",
       "Age                  1119\n",
       "Firearm Used Flag       0\n",
       "Location              595\n",
       "dtype: int64"
      ]
     },
     "execution_count": 21,
     "metadata": {},
     "output_type": "execute_result"
    }
   ],
   "source": [
    "df_pd.isnull().sum()"
   ]
  },
  {
   "cell_type": "code",
   "execution_count": 22,
   "metadata": {},
   "outputs": [
    {
     "data": {
      "text/html": [
       "<div>\n",
       "<style scoped>\n",
       "    .dataframe tbody tr th:only-of-type {\n",
       "        vertical-align: middle;\n",
       "    }\n",
       "\n",
       "    .dataframe tbody tr th {\n",
       "        vertical-align: top;\n",
       "    }\n",
       "\n",
       "    .dataframe thead th {\n",
       "        text-align: right;\n",
       "    }\n",
       "</style>\n",
       "<table border=\"1\" class=\"dataframe\">\n",
       "  <thead>\n",
       "    <tr style=\"text-align: right;\">\n",
       "      <th></th>\n",
       "      <th>Report_No</th>\n",
       "      <th>Reported_Time</th>\n",
       "      <th>From_Date</th>\n",
       "      <th>From_Time</th>\n",
       "      <th>To_Date</th>\n",
       "      <th>To_Time</th>\n",
       "      <th>Offense</th>\n",
       "      <th>IBRS</th>\n",
       "      <th>Description</th>\n",
       "      <th>Beat</th>\n",
       "      <th>...</th>\n",
       "      <th>Zip Code</th>\n",
       "      <th>Rep_Dist</th>\n",
       "      <th>Area</th>\n",
       "      <th>DVFlag</th>\n",
       "      <th>Involvement</th>\n",
       "      <th>Race</th>\n",
       "      <th>Sex</th>\n",
       "      <th>Age</th>\n",
       "      <th>Firearm Used Flag</th>\n",
       "      <th>Location</th>\n",
       "    </tr>\n",
       "    <tr>\n",
       "      <th>Reported_Date</th>\n",
       "      <th></th>\n",
       "      <th></th>\n",
       "      <th></th>\n",
       "      <th></th>\n",
       "      <th></th>\n",
       "      <th></th>\n",
       "      <th></th>\n",
       "      <th></th>\n",
       "      <th></th>\n",
       "      <th></th>\n",
       "      <th></th>\n",
       "      <th></th>\n",
       "      <th></th>\n",
       "      <th></th>\n",
       "      <th></th>\n",
       "      <th></th>\n",
       "      <th></th>\n",
       "      <th></th>\n",
       "      <th></th>\n",
       "      <th></th>\n",
       "      <th></th>\n",
       "    </tr>\n",
       "  </thead>\n",
       "  <tbody>\n",
       "    <tr>\n",
       "      <th>03/26/2019</th>\n",
       "      <td>KC19021991</td>\n",
       "      <td>17:49</td>\n",
       "      <td>03/25/2019</td>\n",
       "      <td>20:10</td>\n",
       "      <td>NaN</td>\n",
       "      <td>NaN</td>\n",
       "      <td>Property Damage</td>\n",
       "      <td>290</td>\n",
       "      <td>Vandalism/Destruction of Property</td>\n",
       "      <td>212</td>\n",
       "      <td>...</td>\n",
       "      <td>64133.0</td>\n",
       "      <td>NaN</td>\n",
       "      <td>MPD</td>\n",
       "      <td>N</td>\n",
       "      <td>VIC</td>\n",
       "      <td>B</td>\n",
       "      <td>M</td>\n",
       "      <td>61.0</td>\n",
       "      <td>False</td>\n",
       "      <td>NaN</td>\n",
       "    </tr>\n",
       "    <tr>\n",
       "      <th>04/04/2019</th>\n",
       "      <td>KC19024382</td>\n",
       "      <td>08:27</td>\n",
       "      <td>04/03/2019</td>\n",
       "      <td>20:56</td>\n",
       "      <td>04/03/2019</td>\n",
       "      <td>21:04</td>\n",
       "      <td>Property Damage</td>\n",
       "      <td>290</td>\n",
       "      <td>Vandalism/Destruction of Property</td>\n",
       "      <td>115</td>\n",
       "      <td>...</td>\n",
       "      <td>64108.0</td>\n",
       "      <td>PJ2072</td>\n",
       "      <td>CPD</td>\n",
       "      <td>N</td>\n",
       "      <td>VIC</td>\n",
       "      <td>NaN</td>\n",
       "      <td>NaN</td>\n",
       "      <td>NaN</td>\n",
       "      <td>False</td>\n",
       "      <td>NaN</td>\n",
       "    </tr>\n",
       "    <tr>\n",
       "      <th>04/10/2019</th>\n",
       "      <td>KC19026110</td>\n",
       "      <td>14:36</td>\n",
       "      <td>04/05/2019</td>\n",
       "      <td>12:30</td>\n",
       "      <td>NaN</td>\n",
       "      <td>NaN</td>\n",
       "      <td>Property Damage</td>\n",
       "      <td>290</td>\n",
       "      <td>Vandalism/Destruction of Property</td>\n",
       "      <td>632</td>\n",
       "      <td>...</td>\n",
       "      <td>64118.0</td>\n",
       "      <td>PC1221</td>\n",
       "      <td>SCP</td>\n",
       "      <td>N</td>\n",
       "      <td>VIC</td>\n",
       "      <td>NaN</td>\n",
       "      <td>NaN</td>\n",
       "      <td>NaN</td>\n",
       "      <td>False</td>\n",
       "      <td>NaN</td>\n",
       "    </tr>\n",
       "    <tr>\n",
       "      <th>04/17/2019</th>\n",
       "      <td>KC19027946</td>\n",
       "      <td>09:07</td>\n",
       "      <td>04/15/2019</td>\n",
       "      <td>18:00</td>\n",
       "      <td>04/15/2019</td>\n",
       "      <td>23:50</td>\n",
       "      <td>Property Damage</td>\n",
       "      <td>290</td>\n",
       "      <td>Vandalism/Destruction of Property</td>\n",
       "      <td>632</td>\n",
       "      <td>...</td>\n",
       "      <td>64119.0</td>\n",
       "      <td>PC1231</td>\n",
       "      <td>SCP</td>\n",
       "      <td>N</td>\n",
       "      <td>VIC</td>\n",
       "      <td>W</td>\n",
       "      <td>M</td>\n",
       "      <td>69.0</td>\n",
       "      <td>False</td>\n",
       "      <td>NaN</td>\n",
       "    </tr>\n",
       "    <tr>\n",
       "      <th>05/20/2019</th>\n",
       "      <td>KC19037132</td>\n",
       "      <td>10:54</td>\n",
       "      <td>05/10/2019</td>\n",
       "      <td>01:00</td>\n",
       "      <td>05/10/2019</td>\n",
       "      <td>01:00</td>\n",
       "      <td>Property Damage</td>\n",
       "      <td>290</td>\n",
       "      <td>Vandalism/Destruction of Property</td>\n",
       "      <td>331</td>\n",
       "      <td>...</td>\n",
       "      <td>64127.0</td>\n",
       "      <td>NaN</td>\n",
       "      <td>EPD</td>\n",
       "      <td>N</td>\n",
       "      <td>SUS</td>\n",
       "      <td>B</td>\n",
       "      <td>M</td>\n",
       "      <td>NaN</td>\n",
       "      <td>False</td>\n",
       "      <td>NaN</td>\n",
       "    </tr>\n",
       "  </tbody>\n",
       "</table>\n",
       "<p>5 rows × 22 columns</p>\n",
       "</div>"
      ],
      "text/plain": [
       "                Report_No Reported_Time   From_Date From_Time     To_Date  \\\n",
       "Reported_Date                                                               \n",
       "03/26/2019     KC19021991         17:49  03/25/2019     20:10         NaN   \n",
       "04/04/2019     KC19024382         08:27  04/03/2019     20:56  04/03/2019   \n",
       "04/10/2019     KC19026110         14:36  04/05/2019     12:30         NaN   \n",
       "04/17/2019     KC19027946         09:07  04/15/2019     18:00  04/15/2019   \n",
       "05/20/2019     KC19037132         10:54  05/10/2019     01:00  05/10/2019   \n",
       "\n",
       "              To_Time          Offense IBRS  \\\n",
       "Reported_Date                                 \n",
       "03/26/2019        NaN  Property Damage  290   \n",
       "04/04/2019      21:04  Property Damage  290   \n",
       "04/10/2019        NaN  Property Damage  290   \n",
       "04/17/2019      23:50  Property Damage  290   \n",
       "05/20/2019      01:00  Property Damage  290   \n",
       "\n",
       "                                     Description Beat  ... Zip Code Rep_Dist  \\\n",
       "Reported_Date                                          ...                     \n",
       "03/26/2019     Vandalism/Destruction of Property  212  ...  64133.0      NaN   \n",
       "04/04/2019     Vandalism/Destruction of Property  115  ...  64108.0   PJ2072   \n",
       "04/10/2019     Vandalism/Destruction of Property  632  ...  64118.0   PC1221   \n",
       "04/17/2019     Vandalism/Destruction of Property  632  ...  64119.0   PC1231   \n",
       "05/20/2019     Vandalism/Destruction of Property  331  ...  64127.0      NaN   \n",
       "\n",
       "               Area DVFlag Involvement Race  Sex   Age Firearm Used Flag  \\\n",
       "Reported_Date                                                              \n",
       "03/26/2019      MPD      N         VIC    B    M  61.0             False   \n",
       "04/04/2019      CPD      N         VIC  NaN  NaN   NaN             False   \n",
       "04/10/2019      SCP      N         VIC  NaN  NaN   NaN             False   \n",
       "04/17/2019      SCP      N         VIC    W    M  69.0             False   \n",
       "05/20/2019      EPD      N         SUS    B    M   NaN             False   \n",
       "\n",
       "               Location  \n",
       "Reported_Date            \n",
       "03/26/2019          NaN  \n",
       "04/04/2019          NaN  \n",
       "04/10/2019          NaN  \n",
       "04/17/2019          NaN  \n",
       "05/20/2019          NaN  \n",
       "\n",
       "[5 rows x 22 columns]"
      ]
     },
     "execution_count": 22,
     "metadata": {},
     "output_type": "execute_result"
    }
   ],
   "source": [
    "df_pd.set_index('Reported_Date', inplace = True)\n",
    "df_pd.head()"
   ]
  },
  {
   "cell_type": "code",
   "execution_count": 23,
   "metadata": {},
   "outputs": [
    {
     "ename": "TypeError",
     "evalue": "Only valid with DatetimeIndex, TimedeltaIndex or PeriodIndex, but got an instance of 'Index'",
     "output_type": "error",
     "traceback": [
      "\u001b[0;31m---------------------------------------------------------------------------\u001b[0m",
      "\u001b[0;31mTypeError\u001b[0m                                 Traceback (most recent call last)",
      "\u001b[0;32m<ipython-input-23-cce00aa6a045>\u001b[0m in \u001b[0;36m<module>\u001b[0;34m\u001b[0m\n\u001b[0;32m----> 1\u001b[0;31m \u001b[0mdf_pd\u001b[0m\u001b[0;34m.\u001b[0m\u001b[0mresample\u001b[0m\u001b[0;34m(\u001b[0m\u001b[0;34m'D'\u001b[0m\u001b[0;34m)\u001b[0m\u001b[0;34m.\u001b[0m\u001b[0mcount\u001b[0m\u001b[0;34m(\u001b[0m\u001b[0;34m)\u001b[0m\u001b[0;34m\u001b[0m\u001b[0;34m\u001b[0m\u001b[0m\n\u001b[0m",
      "\u001b[0;32m/opt/anaconda3/envs/learn-env/lib/python3.6/site-packages/pandas/core/generic.py\u001b[0m in \u001b[0;36mresample\u001b[0;34m(self, rule, axis, closed, label, convention, kind, loffset, base, on, level)\u001b[0m\n\u001b[1;32m   8113\u001b[0m             \u001b[0mbase\u001b[0m\u001b[0;34m=\u001b[0m\u001b[0mbase\u001b[0m\u001b[0;34m,\u001b[0m\u001b[0;34m\u001b[0m\u001b[0;34m\u001b[0m\u001b[0m\n\u001b[1;32m   8114\u001b[0m             \u001b[0mkey\u001b[0m\u001b[0;34m=\u001b[0m\u001b[0mon\u001b[0m\u001b[0;34m,\u001b[0m\u001b[0;34m\u001b[0m\u001b[0;34m\u001b[0m\u001b[0m\n\u001b[0;32m-> 8115\u001b[0;31m             \u001b[0mlevel\u001b[0m\u001b[0;34m=\u001b[0m\u001b[0mlevel\u001b[0m\u001b[0;34m,\u001b[0m\u001b[0;34m\u001b[0m\u001b[0;34m\u001b[0m\u001b[0m\n\u001b[0m\u001b[1;32m   8116\u001b[0m         )\n\u001b[1;32m   8117\u001b[0m \u001b[0;34m\u001b[0m\u001b[0m\n",
      "\u001b[0;32m/opt/anaconda3/envs/learn-env/lib/python3.6/site-packages/pandas/core/resample.py\u001b[0m in \u001b[0;36mresample\u001b[0;34m(obj, kind, **kwds)\u001b[0m\n\u001b[1;32m   1268\u001b[0m     \"\"\"\n\u001b[1;32m   1269\u001b[0m     \u001b[0mtg\u001b[0m \u001b[0;34m=\u001b[0m \u001b[0mTimeGrouper\u001b[0m\u001b[0;34m(\u001b[0m\u001b[0;34m**\u001b[0m\u001b[0mkwds\u001b[0m\u001b[0;34m)\u001b[0m\u001b[0;34m\u001b[0m\u001b[0;34m\u001b[0m\u001b[0m\n\u001b[0;32m-> 1270\u001b[0;31m     \u001b[0;32mreturn\u001b[0m \u001b[0mtg\u001b[0m\u001b[0;34m.\u001b[0m\u001b[0m_get_resampler\u001b[0m\u001b[0;34m(\u001b[0m\u001b[0mobj\u001b[0m\u001b[0;34m,\u001b[0m \u001b[0mkind\u001b[0m\u001b[0;34m=\u001b[0m\u001b[0mkind\u001b[0m\u001b[0;34m)\u001b[0m\u001b[0;34m\u001b[0m\u001b[0;34m\u001b[0m\u001b[0m\n\u001b[0m\u001b[1;32m   1271\u001b[0m \u001b[0;34m\u001b[0m\u001b[0m\n\u001b[1;32m   1272\u001b[0m \u001b[0;34m\u001b[0m\u001b[0m\n",
      "\u001b[0;32m/opt/anaconda3/envs/learn-env/lib/python3.6/site-packages/pandas/core/resample.py\u001b[0m in \u001b[0;36m_get_resampler\u001b[0;34m(self, obj, kind)\u001b[0m\n\u001b[1;32m   1402\u001b[0m \u001b[0;34m\u001b[0m\u001b[0m\n\u001b[1;32m   1403\u001b[0m         raise TypeError(\n\u001b[0;32m-> 1404\u001b[0;31m             \u001b[0;34m\"Only valid with DatetimeIndex, \"\u001b[0m\u001b[0;34m\u001b[0m\u001b[0;34m\u001b[0m\u001b[0m\n\u001b[0m\u001b[1;32m   1405\u001b[0m             \u001b[0;34m\"TimedeltaIndex or PeriodIndex, \"\u001b[0m\u001b[0;34m\u001b[0m\u001b[0;34m\u001b[0m\u001b[0m\n\u001b[1;32m   1406\u001b[0m             \u001b[0;34mf\"but got an instance of '{type(ax).__name__}'\"\u001b[0m\u001b[0;34m\u001b[0m\u001b[0;34m\u001b[0m\u001b[0m\n",
      "\u001b[0;31mTypeError\u001b[0m: Only valid with DatetimeIndex, TimedeltaIndex or PeriodIndex, but got an instance of 'Index'"
     ]
    }
   ],
   "source": [
    "df_pd.resample('D').count()"
   ]
  },
  {
   "cell_type": "code",
   "execution_count": 24,
   "metadata": {},
   "outputs": [
    {
     "data": {
      "text/plain": [
       "Index(['03/26/2019', '04/04/2019', '04/10/2019', '04/17/2019', '05/20/2019',\n",
       "       '05/25/2019', '05/27/2019', '06/15/2019', '06/16/2019', '06/18/2019',\n",
       "       ...\n",
       "       '12/24/2019', '12/14/2019', '12/04/2019', '12/09/2019', '11/26/2019',\n",
       "       '12/13/2019', '12/18/2019', '12/12/2019', '11/20/2019', '12/17/2019'],\n",
       "      dtype='object', name='Reported_Date', length=4344)"
      ]
     },
     "execution_count": 24,
     "metadata": {},
     "output_type": "execute_result"
    }
   ],
   "source": [
    "df_pd.index"
   ]
  },
  {
   "cell_type": "code",
   "execution_count": 26,
   "metadata": {},
   "outputs": [
    {
     "data": {
      "text/plain": [
       "DatetimeIndex(['2019-03-26', '2019-04-04', '2019-04-10', '2019-04-17',\n",
       "               '2019-05-20', '2019-05-25', '2019-05-27', '2019-06-15',\n",
       "               '2019-06-16', '2019-06-18',\n",
       "               ...\n",
       "               '2019-12-24', '2019-12-14', '2019-12-04', '2019-12-09',\n",
       "               '2019-11-26', '2019-12-13', '2019-12-18', '2019-12-12',\n",
       "               '2019-11-20', '2019-12-17'],\n",
       "              dtype='datetime64[ns]', name='Reported_Date', length=4344, freq=None)"
      ]
     },
     "execution_count": 26,
     "metadata": {},
     "output_type": "execute_result"
    }
   ],
   "source": [
    "df_pd.index = pd.to_datetime(df_pd.index)\n",
    "df_pd.index"
   ]
  },
  {
   "cell_type": "code",
   "execution_count": 27,
   "metadata": {},
   "outputs": [
    {
     "data": {
      "text/html": [
       "<div>\n",
       "<style scoped>\n",
       "    .dataframe tbody tr th:only-of-type {\n",
       "        vertical-align: middle;\n",
       "    }\n",
       "\n",
       "    .dataframe tbody tr th {\n",
       "        vertical-align: top;\n",
       "    }\n",
       "\n",
       "    .dataframe thead th {\n",
       "        text-align: right;\n",
       "    }\n",
       "</style>\n",
       "<table border=\"1\" class=\"dataframe\">\n",
       "  <thead>\n",
       "    <tr style=\"text-align: right;\">\n",
       "      <th></th>\n",
       "      <th>Report_No</th>\n",
       "      <th>Reported_Time</th>\n",
       "      <th>From_Date</th>\n",
       "      <th>From_Time</th>\n",
       "      <th>To_Date</th>\n",
       "      <th>To_Time</th>\n",
       "      <th>Offense</th>\n",
       "      <th>IBRS</th>\n",
       "      <th>Description</th>\n",
       "      <th>Beat</th>\n",
       "      <th>...</th>\n",
       "      <th>Zip Code</th>\n",
       "      <th>Rep_Dist</th>\n",
       "      <th>Area</th>\n",
       "      <th>DVFlag</th>\n",
       "      <th>Involvement</th>\n",
       "      <th>Race</th>\n",
       "      <th>Sex</th>\n",
       "      <th>Age</th>\n",
       "      <th>Firearm Used Flag</th>\n",
       "      <th>Location</th>\n",
       "    </tr>\n",
       "    <tr>\n",
       "      <th>Reported_Date</th>\n",
       "      <th></th>\n",
       "      <th></th>\n",
       "      <th></th>\n",
       "      <th></th>\n",
       "      <th></th>\n",
       "      <th></th>\n",
       "      <th></th>\n",
       "      <th></th>\n",
       "      <th></th>\n",
       "      <th></th>\n",
       "      <th></th>\n",
       "      <th></th>\n",
       "      <th></th>\n",
       "      <th></th>\n",
       "      <th></th>\n",
       "      <th></th>\n",
       "      <th></th>\n",
       "      <th></th>\n",
       "      <th></th>\n",
       "      <th></th>\n",
       "      <th></th>\n",
       "    </tr>\n",
       "  </thead>\n",
       "  <tbody>\n",
       "    <tr>\n",
       "      <th>2019-03-18</th>\n",
       "      <td>2</td>\n",
       "      <td>2</td>\n",
       "      <td>2</td>\n",
       "      <td>2</td>\n",
       "      <td>0</td>\n",
       "      <td>0</td>\n",
       "      <td>2</td>\n",
       "      <td>2</td>\n",
       "      <td>2</td>\n",
       "      <td>2</td>\n",
       "      <td>...</td>\n",
       "      <td>2</td>\n",
       "      <td>2</td>\n",
       "      <td>2</td>\n",
       "      <td>2</td>\n",
       "      <td>2</td>\n",
       "      <td>2</td>\n",
       "      <td>2</td>\n",
       "      <td>2</td>\n",
       "      <td>2</td>\n",
       "      <td>2</td>\n",
       "    </tr>\n",
       "    <tr>\n",
       "      <th>2019-03-19</th>\n",
       "      <td>2</td>\n",
       "      <td>2</td>\n",
       "      <td>2</td>\n",
       "      <td>2</td>\n",
       "      <td>0</td>\n",
       "      <td>0</td>\n",
       "      <td>2</td>\n",
       "      <td>2</td>\n",
       "      <td>2</td>\n",
       "      <td>2</td>\n",
       "      <td>...</td>\n",
       "      <td>2</td>\n",
       "      <td>2</td>\n",
       "      <td>2</td>\n",
       "      <td>2</td>\n",
       "      <td>2</td>\n",
       "      <td>1</td>\n",
       "      <td>1</td>\n",
       "      <td>1</td>\n",
       "      <td>2</td>\n",
       "      <td>0</td>\n",
       "    </tr>\n",
       "    <tr>\n",
       "      <th>2019-03-20</th>\n",
       "      <td>3</td>\n",
       "      <td>3</td>\n",
       "      <td>3</td>\n",
       "      <td>3</td>\n",
       "      <td>0</td>\n",
       "      <td>0</td>\n",
       "      <td>3</td>\n",
       "      <td>3</td>\n",
       "      <td>3</td>\n",
       "      <td>3</td>\n",
       "      <td>...</td>\n",
       "      <td>2</td>\n",
       "      <td>2</td>\n",
       "      <td>3</td>\n",
       "      <td>3</td>\n",
       "      <td>3</td>\n",
       "      <td>2</td>\n",
       "      <td>3</td>\n",
       "      <td>2</td>\n",
       "      <td>3</td>\n",
       "      <td>3</td>\n",
       "    </tr>\n",
       "    <tr>\n",
       "      <th>2019-03-21</th>\n",
       "      <td>4</td>\n",
       "      <td>4</td>\n",
       "      <td>4</td>\n",
       "      <td>4</td>\n",
       "      <td>2</td>\n",
       "      <td>2</td>\n",
       "      <td>4</td>\n",
       "      <td>4</td>\n",
       "      <td>4</td>\n",
       "      <td>4</td>\n",
       "      <td>...</td>\n",
       "      <td>4</td>\n",
       "      <td>4</td>\n",
       "      <td>4</td>\n",
       "      <td>4</td>\n",
       "      <td>4</td>\n",
       "      <td>4</td>\n",
       "      <td>4</td>\n",
       "      <td>4</td>\n",
       "      <td>4</td>\n",
       "      <td>1</td>\n",
       "    </tr>\n",
       "    <tr>\n",
       "      <th>2019-03-22</th>\n",
       "      <td>0</td>\n",
       "      <td>0</td>\n",
       "      <td>0</td>\n",
       "      <td>0</td>\n",
       "      <td>0</td>\n",
       "      <td>0</td>\n",
       "      <td>0</td>\n",
       "      <td>0</td>\n",
       "      <td>0</td>\n",
       "      <td>0</td>\n",
       "      <td>...</td>\n",
       "      <td>0</td>\n",
       "      <td>0</td>\n",
       "      <td>0</td>\n",
       "      <td>0</td>\n",
       "      <td>0</td>\n",
       "      <td>0</td>\n",
       "      <td>0</td>\n",
       "      <td>0</td>\n",
       "      <td>0</td>\n",
       "      <td>0</td>\n",
       "    </tr>\n",
       "    <tr>\n",
       "      <th>...</th>\n",
       "      <td>...</td>\n",
       "      <td>...</td>\n",
       "      <td>...</td>\n",
       "      <td>...</td>\n",
       "      <td>...</td>\n",
       "      <td>...</td>\n",
       "      <td>...</td>\n",
       "      <td>...</td>\n",
       "      <td>...</td>\n",
       "      <td>...</td>\n",
       "      <td>...</td>\n",
       "      <td>...</td>\n",
       "      <td>...</td>\n",
       "      <td>...</td>\n",
       "      <td>...</td>\n",
       "      <td>...</td>\n",
       "      <td>...</td>\n",
       "      <td>...</td>\n",
       "      <td>...</td>\n",
       "      <td>...</td>\n",
       "      <td>...</td>\n",
       "    </tr>\n",
       "    <tr>\n",
       "      <th>2019-12-27</th>\n",
       "      <td>16</td>\n",
       "      <td>16</td>\n",
       "      <td>16</td>\n",
       "      <td>16</td>\n",
       "      <td>7</td>\n",
       "      <td>7</td>\n",
       "      <td>16</td>\n",
       "      <td>13</td>\n",
       "      <td>13</td>\n",
       "      <td>16</td>\n",
       "      <td>...</td>\n",
       "      <td>14</td>\n",
       "      <td>9</td>\n",
       "      <td>16</td>\n",
       "      <td>16</td>\n",
       "      <td>16</td>\n",
       "      <td>13</td>\n",
       "      <td>13</td>\n",
       "      <td>11</td>\n",
       "      <td>16</td>\n",
       "      <td>15</td>\n",
       "    </tr>\n",
       "    <tr>\n",
       "      <th>2019-12-28</th>\n",
       "      <td>8</td>\n",
       "      <td>8</td>\n",
       "      <td>8</td>\n",
       "      <td>8</td>\n",
       "      <td>5</td>\n",
       "      <td>5</td>\n",
       "      <td>8</td>\n",
       "      <td>8</td>\n",
       "      <td>8</td>\n",
       "      <td>8</td>\n",
       "      <td>...</td>\n",
       "      <td>6</td>\n",
       "      <td>4</td>\n",
       "      <td>8</td>\n",
       "      <td>8</td>\n",
       "      <td>8</td>\n",
       "      <td>6</td>\n",
       "      <td>6</td>\n",
       "      <td>6</td>\n",
       "      <td>8</td>\n",
       "      <td>7</td>\n",
       "    </tr>\n",
       "    <tr>\n",
       "      <th>2019-12-29</th>\n",
       "      <td>24</td>\n",
       "      <td>24</td>\n",
       "      <td>24</td>\n",
       "      <td>24</td>\n",
       "      <td>13</td>\n",
       "      <td>13</td>\n",
       "      <td>24</td>\n",
       "      <td>17</td>\n",
       "      <td>17</td>\n",
       "      <td>24</td>\n",
       "      <td>...</td>\n",
       "      <td>19</td>\n",
       "      <td>10</td>\n",
       "      <td>24</td>\n",
       "      <td>24</td>\n",
       "      <td>24</td>\n",
       "      <td>20</td>\n",
       "      <td>20</td>\n",
       "      <td>16</td>\n",
       "      <td>24</td>\n",
       "      <td>15</td>\n",
       "    </tr>\n",
       "    <tr>\n",
       "      <th>2019-12-30</th>\n",
       "      <td>5</td>\n",
       "      <td>5</td>\n",
       "      <td>5</td>\n",
       "      <td>5</td>\n",
       "      <td>2</td>\n",
       "      <td>2</td>\n",
       "      <td>5</td>\n",
       "      <td>4</td>\n",
       "      <td>4</td>\n",
       "      <td>5</td>\n",
       "      <td>...</td>\n",
       "      <td>5</td>\n",
       "      <td>2</td>\n",
       "      <td>5</td>\n",
       "      <td>5</td>\n",
       "      <td>5</td>\n",
       "      <td>0</td>\n",
       "      <td>0</td>\n",
       "      <td>0</td>\n",
       "      <td>5</td>\n",
       "      <td>3</td>\n",
       "    </tr>\n",
       "    <tr>\n",
       "      <th>2019-12-31</th>\n",
       "      <td>13</td>\n",
       "      <td>13</td>\n",
       "      <td>13</td>\n",
       "      <td>13</td>\n",
       "      <td>7</td>\n",
       "      <td>7</td>\n",
       "      <td>13</td>\n",
       "      <td>12</td>\n",
       "      <td>12</td>\n",
       "      <td>13</td>\n",
       "      <td>...</td>\n",
       "      <td>12</td>\n",
       "      <td>7</td>\n",
       "      <td>13</td>\n",
       "      <td>13</td>\n",
       "      <td>13</td>\n",
       "      <td>10</td>\n",
       "      <td>11</td>\n",
       "      <td>11</td>\n",
       "      <td>13</td>\n",
       "      <td>12</td>\n",
       "    </tr>\n",
       "  </tbody>\n",
       "</table>\n",
       "<p>289 rows × 22 columns</p>\n",
       "</div>"
      ],
      "text/plain": [
       "               Report_No  Reported_Time  From_Date  From_Time  To_Date  \\\n",
       "Reported_Date                                                            \n",
       "2019-03-18             2              2          2          2        0   \n",
       "2019-03-19             2              2          2          2        0   \n",
       "2019-03-20             3              3          3          3        0   \n",
       "2019-03-21             4              4          4          4        2   \n",
       "2019-03-22             0              0          0          0        0   \n",
       "...                  ...            ...        ...        ...      ...   \n",
       "2019-12-27            16             16         16         16        7   \n",
       "2019-12-28             8              8          8          8        5   \n",
       "2019-12-29            24             24         24         24       13   \n",
       "2019-12-30             5              5          5          5        2   \n",
       "2019-12-31            13             13         13         13        7   \n",
       "\n",
       "               To_Time  Offense  IBRS  Description  Beat  ...  Zip Code  \\\n",
       "Reported_Date                                             ...             \n",
       "2019-03-18           0        2     2            2     2  ...         2   \n",
       "2019-03-19           0        2     2            2     2  ...         2   \n",
       "2019-03-20           0        3     3            3     3  ...         2   \n",
       "2019-03-21           2        4     4            4     4  ...         4   \n",
       "2019-03-22           0        0     0            0     0  ...         0   \n",
       "...                ...      ...   ...          ...   ...  ...       ...   \n",
       "2019-12-27           7       16    13           13    16  ...        14   \n",
       "2019-12-28           5        8     8            8     8  ...         6   \n",
       "2019-12-29          13       24    17           17    24  ...        19   \n",
       "2019-12-30           2        5     4            4     5  ...         5   \n",
       "2019-12-31           7       13    12           12    13  ...        12   \n",
       "\n",
       "               Rep_Dist  Area  DVFlag  Involvement  Race  Sex  Age  \\\n",
       "Reported_Date                                                        \n",
       "2019-03-18            2     2       2            2     2    2    2   \n",
       "2019-03-19            2     2       2            2     1    1    1   \n",
       "2019-03-20            2     3       3            3     2    3    2   \n",
       "2019-03-21            4     4       4            4     4    4    4   \n",
       "2019-03-22            0     0       0            0     0    0    0   \n",
       "...                 ...   ...     ...          ...   ...  ...  ...   \n",
       "2019-12-27            9    16      16           16    13   13   11   \n",
       "2019-12-28            4     8       8            8     6    6    6   \n",
       "2019-12-29           10    24      24           24    20   20   16   \n",
       "2019-12-30            2     5       5            5     0    0    0   \n",
       "2019-12-31            7    13      13           13    10   11   11   \n",
       "\n",
       "               Firearm Used Flag  Location  \n",
       "Reported_Date                               \n",
       "2019-03-18                     2         2  \n",
       "2019-03-19                     2         0  \n",
       "2019-03-20                     3         3  \n",
       "2019-03-21                     4         1  \n",
       "2019-03-22                     0         0  \n",
       "...                          ...       ...  \n",
       "2019-12-27                    16        15  \n",
       "2019-12-28                     8         7  \n",
       "2019-12-29                    24        15  \n",
       "2019-12-30                     5         3  \n",
       "2019-12-31                    13        12  \n",
       "\n",
       "[289 rows x 22 columns]"
      ]
     },
     "execution_count": 27,
     "metadata": {},
     "output_type": "execute_result"
    }
   ],
   "source": [
    "df_pd.resample('D').count()"
   ]
  },
  {
   "cell_type": "code",
   "execution_count": 28,
   "metadata": {},
   "outputs": [
    {
     "data": {
      "text/plain": [
       "Reported_Date\n",
       "2019-03-18     2\n",
       "2019-03-19     2\n",
       "2019-03-20     3\n",
       "2019-03-21     4\n",
       "2019-03-22     0\n",
       "              ..\n",
       "2019-12-27    16\n",
       "2019-12-28     8\n",
       "2019-12-29    24\n",
       "2019-12-30     5\n",
       "2019-12-31    13\n",
       "Freq: D, Name: Report_No, Length: 289, dtype: int64"
      ]
     },
     "execution_count": 28,
     "metadata": {},
     "output_type": "execute_result"
    }
   ],
   "source": [
    "df_pd.resample('D')['Report_No'].count()"
   ]
  },
  {
   "cell_type": "code",
   "execution_count": 30,
   "metadata": {},
   "outputs": [
    {
     "data": {
      "image/png": "[encoded data removed]",
      "text/plain": [
       "<Figure size 720x432 with 1 Axes>"
      ]
     },
     "metadata": {},
     "output_type": "display_data"
    }
   ],
   "source": [
    "with plt.style.context('fivethirtyeight'):\n",
    "    df_pd.resample('D')['Report_No'].count().plot(kind = 'line', figsize = (10, 6))"
   ]
  },
  {
   "cell_type": "code",
   "execution_count": 31,
   "metadata": {},
   "outputs": [
    {
     "data": {
      "text/plain": [
       "Reported_Date\n",
       "2019-03-18    2\n",
       "2019-03-19    2\n",
       "2019-03-20    3\n",
       "2019-03-21    4\n",
       "2019-03-22    0\n",
       "Freq: D, Name: Report_No, dtype: int64"
      ]
     },
     "execution_count": 31,
     "metadata": {},
     "output_type": "execute_result"
    }
   ],
   "source": [
    "df_daily = df_pd.resample('D')['Report_No'].count()\n",
    "df_daily.head()"
   ]
  },
  {
   "cell_type": "code",
   "execution_count": 32,
   "metadata": {},
   "outputs": [
    {
     "name": "stderr",
     "output_type": "stream",
     "text": [
      "/opt/anaconda3/envs/learn-env/lib/python3.6/site-packages/statsmodels/tools/_testing.py:19: FutureWarning: pandas.util.testing is deprecated. Use the functions in the public API at pandas.testing instead.\n",
      "  import pandas.util.testing as tm\n"
     ]
    },
    {
     "data": {
      "text/plain": [
       "<matplotlib.axes._subplots.AxesSubplot at 0x7fa02ece6390>"
      ]
     },
     "execution_count": 32,
     "metadata": {},
     "output_type": "execute_result"
    },
    {
     "data": {
      "image/png": "[encoded data removed]",
      "text/plain": [
       "<Figure size 432x288 with 1 Axes>"
      ]
     },
     "metadata": {
      "needs_background": "light"
     },
     "output_type": "display_data"
    }
   ],
   "source": [
    "import seaborn as sns \n",
    "\n",
    "sns.distplot(df_daily)"
   ]
  },
  {
   "cell_type": "markdown",
   "metadata": {},
   "source": [
    "## Stationarity"
   ]
  },
  {
   "cell_type": "markdown",
   "metadata": {},
   "source": [
    "A time series is said to be stationary if its statistical properties such as mean, variance, etc. remain constant over time. \n",
    "\n",
    "Why is it important? Because most time series models work on the assumption that **the time series are stationary**."
   ]
  },
  {
   "cell_type": "markdown",
   "metadata": {},
   "source": [
    "Here's a dataset from Learn.co, lets see how it does with the Dickey Fuller Test "
   ]
  },
  {
   "cell_type": "code",
   "execution_count": 45,
   "metadata": {},
   "outputs": [],
   "source": [
    "roll_mean = df_daily.rolling(window = 7).mean()\n",
    "roll_std = df_daily.rolling(window = 7).std()"
   ]
  },
  {
   "cell_type": "code",
   "execution_count": 46,
   "metadata": {},
   "outputs": [
    {
     "data": {
      "image/png": "[encoded data removed]",
      "text/plain": [
       "<Figure size 864x504 with 1 Axes>"
      ]
     },
     "metadata": {},
     "output_type": "display_data"
    }
   ],
   "source": [
    "with plt.style.context('dark_background'):\n",
    "    fig = plt.figure(figsize = (12, 7))\n",
    "    plt.plot(df_daily, color = 'blue', label = 'Original')\n",
    "    plt.plot(roll_mean, color = 'red', label = 'rolling mean')\n",
    "    plt.plot(roll_std, color = 'white', label = 'rolling std')\n",
    "    plt.legend()"
   ]
  },
  {
   "cell_type": "code",
   "execution_count": 47,
   "metadata": {},
   "outputs": [
    {
     "data": {
      "text/plain": [
       "(-7.7106814559145995,\n",
       " 1.2663057571335847e-11,\n",
       " 2,\n",
       " 286,\n",
       " {'1%': -3.4534232986669546,\n",
       "  '5%': -2.8716994185534745,\n",
       "  '10%': -2.5721833625116144},\n",
       " 1753.5811441101437)"
      ]
     },
     "execution_count": 47,
     "metadata": {},
     "output_type": "execute_result"
    }
   ],
   "source": [
    "from statsmodels.tsa.stattools import adfuller\n",
    "\n",
    "adfuller(df_daily)"
   ]
  },
  {
   "cell_type": "code",
   "execution_count": 48,
   "metadata": {},
   "outputs": [
    {
     "data": {
      "image/png": "[encoded data removed]",
      "text/plain": [
       "<Figure size 864x432 with 1 Axes>"
      ]
     },
     "metadata": {
      "needs_background": "light"
     },
     "output_type": "display_data"
    }
   ],
   "source": [
    "import numpy as np\n",
    "\n",
    "years = pd.date_range('2012-01', periods=72, freq='M')\n",
    "index = pd.DatetimeIndex(years)\n",
    "\n",
    "np.random.seed(3456)\n",
    "sales= np.random.randint(-4, high=4, size=72)\n",
    "bigger = np.array([0,0,0,0,0,0,0,0,0,1,1,1,1,1,1,1,1,1,1,1,3,3,3,3,\n",
    "                   3,3,3,3,3,3,3,3,7,7,7,7,7,7,7,7,7,7,7,\n",
    "                   11,11,11,11,11,11,11,11,11,11,18,18,18,\n",
    "                   18,18,18,18,18,18,26,26,26,26,26,36,36,36,36,36])\n",
    "data = pd.Series(sales+bigger+6, index=index)\n",
    "ts = data\n",
    "fig = plt.figure(figsize=(12,6))\n",
    "plt.plot(data)\n",
    "plt.xlabel('month', fontsize=16)\n",
    "plt.ylabel('monthly sales', fontsize=16)\n",
    "plt.show()"
   ]
  },
  {
   "cell_type": "code",
   "execution_count": 51,
   "metadata": {},
   "outputs": [
    {
     "data": {
      "text/plain": [
       "2012-01-31    5\n",
       "2012-02-29    4\n",
       "2012-03-31    4\n",
       "2012-04-30    6\n",
       "2012-05-31    2\n",
       "Freq: M, dtype: int64"
      ]
     },
     "execution_count": 51,
     "metadata": {},
     "output_type": "execute_result"
    }
   ],
   "source": [
    "data[:5]"
   ]
  },
  {
   "cell_type": "code",
   "execution_count": 52,
   "metadata": {},
   "outputs": [
    {
     "data": {
      "text/plain": [
       "2012-01-31    NaN\n",
       "2012-02-29   -1.0\n",
       "2012-03-31    0.0\n",
       "2012-04-30    2.0\n",
       "2012-05-31   -4.0\n",
       "Freq: M, dtype: float64"
      ]
     },
     "execution_count": 52,
     "metadata": {},
     "output_type": "execute_result"
    }
   ],
   "source": [
    "data.diff(periods = 1)[:5]"
   ]
  },
  {
   "cell_type": "code",
   "execution_count": 54,
   "metadata": {},
   "outputs": [
    {
     "data": {
      "text/plain": [
       "(-6.455929660591098,\n",
       " 1.4835154528971145e-08,\n",
       " 2,\n",
       " 68,\n",
       " {'1%': -3.530398990560757,\n",
       "  '5%': -2.9050874099328317,\n",
       "  '10%': -2.5900010121107266},\n",
       " 311.5103050425881)"
      ]
     },
     "execution_count": 54,
     "metadata": {},
     "output_type": "execute_result"
    }
   ],
   "source": [
    "adfuller(data.diff(periods = 1).dropna())"
   ]
  },
  {
   "cell_type": "code",
   "execution_count": 50,
   "metadata": {},
   "outputs": [
    {
     "data": {
      "text/plain": [
       "(3.761375741674094,\n",
       " 1.0,\n",
       " 8,\n",
       " 63,\n",
       " {'1%': -3.5386953618719676,\n",
       "  '5%': -2.9086446751210775,\n",
       "  '10%': -2.591896782564878},\n",
       " 314.84474355172597)"
      ]
     },
     "execution_count": 50,
     "metadata": {},
     "output_type": "execute_result"
    }
   ],
   "source": [
    "adfuller(data)"
   ]
  },
  {
   "cell_type": "code",
   "execution_count": 57,
   "metadata": {},
   "outputs": [
    {
     "data": {
      "image/png": "[encoded data removed]",
      "text/plain": [
       "<Figure size 864x504 with 1 Axes>"
      ]
     },
     "metadata": {},
     "output_type": "display_data"
    }
   ],
   "source": [
    "with plt.style.context('dark_background'):\n",
    "    fig = plt.figure(figsize = (12, 7))\n",
    "    plt.plot(data, label = 'original')\n",
    "    plt.plot(data.diff(periods = 1), label = 'differnce value of 1')\n",
    "    plt.legend()\n",
    "    plt.show()"
   ]
  },
  {
   "cell_type": "markdown",
   "metadata": {},
   "source": [
    "Examples of [Non-Stationarity](https://learn.co/tracks/module-4-data-science-career-2-1/big-data-deep-learning-and-natural-language-processing/section-37-working-with-time-series-data/types-of-trends)"
   ]
  },
  {
   "cell_type": "markdown",
   "metadata": {},
   "source": [
    "<img src=\"images/trendseasonal.png\" alt=\"Drawing\" style=\"width: 800px;\"/>"
   ]
  },
  {
   "cell_type": "code",
   "execution_count": 58,
   "metadata": {},
   "outputs": [],
   "source": [
    "from statsmodels.tsa.seasonal import seasonal_decompose"
   ]
  },
  {
   "cell_type": "code",
   "execution_count": 85,
   "metadata": {},
   "outputs": [],
   "source": [
    "decomposition = seasonal_decompose(df_daily, )"
   ]
  },
  {
   "cell_type": "code",
   "execution_count": 63,
   "metadata": {},
   "outputs": [
    {
     "data": {
      "image/png": "[encoded data removed]",
      "text/plain": [
       "<Figure size 432x288 with 4 Axes>"
      ]
     },
     "metadata": {
      "needs_background": "light"
     },
     "output_type": "display_data"
    }
   ],
   "source": [
    "decomposition.plot();"
   ]
  },
  {
   "cell_type": "code",
   "execution_count": 65,
   "metadata": {},
   "outputs": [
    {
     "data": {
      "text/plain": [
       "Reported_Date\n",
       "2019-03-18    1.696653\n",
       "2019-03-19   -1.285490\n",
       "2019-03-20    0.035938\n",
       "2019-03-21   -0.306135\n",
       "2019-03-22   -0.804393\n",
       "2019-03-23    0.206060\n",
       "2019-03-24    0.457367\n",
       "2019-03-25    1.696653\n",
       "2019-03-26   -1.285490\n",
       "2019-03-27    0.035938\n",
       "2019-03-28   -0.306135\n",
       "2019-03-29   -0.804393\n",
       "2019-03-30    0.206060\n",
       "2019-03-31    0.457367\n",
       "Freq: D, Name: Report_No, dtype: float64"
      ]
     },
     "execution_count": 65,
     "metadata": {},
     "output_type": "execute_result"
    }
   ],
   "source": [
    "decomposition.seasonal[:14]"
   ]
  },
  {
   "cell_type": "code",
   "execution_count": 67,
   "metadata": {},
   "outputs": [],
   "source": [
    "pd_daily = pd.DataFrame(df_daily)\n",
    "pd_daily['Day_of_Week'] = pd_daily.index.day_name()"
   ]
  },
  {
   "cell_type": "code",
   "execution_count": 69,
   "metadata": {},
   "outputs": [
    {
     "data": {
      "text/html": [
       "<div>\n",
       "<style scoped>\n",
       "    .dataframe tbody tr th:only-of-type {\n",
       "        vertical-align: middle;\n",
       "    }\n",
       "\n",
       "    .dataframe tbody tr th {\n",
       "        vertical-align: top;\n",
       "    }\n",
       "\n",
       "    .dataframe thead th {\n",
       "        text-align: right;\n",
       "    }\n",
       "</style>\n",
       "<table border=\"1\" class=\"dataframe\">\n",
       "  <thead>\n",
       "    <tr style=\"text-align: right;\">\n",
       "      <th></th>\n",
       "      <th>Report_No</th>\n",
       "      <th>Day_of_Week</th>\n",
       "    </tr>\n",
       "    <tr>\n",
       "      <th>Reported_Date</th>\n",
       "      <th></th>\n",
       "      <th></th>\n",
       "    </tr>\n",
       "  </thead>\n",
       "  <tbody>\n",
       "    <tr>\n",
       "      <th>2019-03-18</th>\n",
       "      <td>2</td>\n",
       "      <td>Monday</td>\n",
       "    </tr>\n",
       "    <tr>\n",
       "      <th>2019-03-19</th>\n",
       "      <td>2</td>\n",
       "      <td>Tuesday</td>\n",
       "    </tr>\n",
       "    <tr>\n",
       "      <th>2019-03-20</th>\n",
       "      <td>3</td>\n",
       "      <td>Wednesday</td>\n",
       "    </tr>\n",
       "    <tr>\n",
       "      <th>2019-03-21</th>\n",
       "      <td>4</td>\n",
       "      <td>Thursday</td>\n",
       "    </tr>\n",
       "    <tr>\n",
       "      <th>2019-03-22</th>\n",
       "      <td>0</td>\n",
       "      <td>Friday</td>\n",
       "    </tr>\n",
       "    <tr>\n",
       "      <th>2019-03-23</th>\n",
       "      <td>0</td>\n",
       "      <td>Saturday</td>\n",
       "    </tr>\n",
       "    <tr>\n",
       "      <th>2019-03-24</th>\n",
       "      <td>3</td>\n",
       "      <td>Sunday</td>\n",
       "    </tr>\n",
       "  </tbody>\n",
       "</table>\n",
       "</div>"
      ],
      "text/plain": [
       "               Report_No Day_of_Week\n",
       "Reported_Date                       \n",
       "2019-03-18             2      Monday\n",
       "2019-03-19             2     Tuesday\n",
       "2019-03-20             3   Wednesday\n",
       "2019-03-21             4    Thursday\n",
       "2019-03-22             0      Friday\n",
       "2019-03-23             0    Saturday\n",
       "2019-03-24             3      Sunday"
      ]
     },
     "execution_count": 69,
     "metadata": {},
     "output_type": "execute_result"
    }
   ],
   "source": [
    "pd_daily.head(7)"
   ]
  },
  {
   "cell_type": "code",
   "execution_count": 73,
   "metadata": {},
   "outputs": [
    {
     "data": {
      "text/plain": [
       "<matplotlib.axes._subplots.AxesSubplot at 0x7fa01afb0588>"
      ]
     },
     "execution_count": 73,
     "metadata": {},
     "output_type": "execute_result"
    },
    {
     "data": {
      "image/png": "[encoded data removed]",
      "text/plain": [
       "<Figure size 432x288 with 1 Axes>"
      ]
     },
     "metadata": {
      "needs_background": "light"
     },
     "output_type": "display_data"
    }
   ],
   "source": [
    "pd_daily.groupby('Day_of_Week')['Report_No'].mean().plot(kind = 'line')"
   ]
  },
  {
   "cell_type": "code",
   "execution_count": 74,
   "metadata": {},
   "outputs": [
    {
     "data": {
      "text/plain": [
       "{'Monday': 0,\n",
       " 'Tuesday': 1,\n",
       " 'Wednesday': 2,\n",
       " 'Thursday': 3,\n",
       " 'Friday': 4,\n",
       " 'Saturday': 5,\n",
       " 'Sunday': 6}"
      ]
     },
     "execution_count": 74,
     "metadata": {},
     "output_type": "execute_result"
    }
   ],
   "source": [
    "days = ['Monday', 'Tuesday', 'Wednesday', 'Thursday', 'Friday', 'Saturday', 'Sunday']\n",
    "mapping = {day: i for i, day in enumerate(days)}\n",
    "mapping"
   ]
  },
  {
   "cell_type": "code",
   "execution_count": 75,
   "metadata": {},
   "outputs": [
    {
     "data": {
      "text/plain": [
       "Day_of_Week\n",
       "Friday       14.268293\n",
       "Monday       16.285714\n",
       "Saturday     15.317073\n",
       "Sunday       15.853659\n",
       "Thursday     14.756098\n",
       "Tuesday      13.690476\n",
       "Wednesday    15.048780\n",
       "Name: Report_No, dtype: float64"
      ]
     },
     "execution_count": 75,
     "metadata": {},
     "output_type": "execute_result"
    }
   ],
   "source": [
    "df_dow = pd_daily.groupby('Day_of_Week')['Report_No'].mean()\n",
    "df_dow"
   ]
  },
  {
   "cell_type": "code",
   "execution_count": 83,
   "metadata": {},
   "outputs": [
    {
     "data": {
      "text/plain": [
       "Report_No    15.031142\n",
       "dtype: float64"
      ]
     },
     "execution_count": 83,
     "metadata": {},
     "output_type": "execute_result"
    }
   ],
   "source": [
    "pd_daily.mean()"
   ]
  },
  {
   "cell_type": "code",
   "execution_count": 77,
   "metadata": {},
   "outputs": [],
   "source": [
    "key = df_dow.index.map(mapping)"
   ]
  },
  {
   "cell_type": "code",
   "execution_count": 81,
   "metadata": {},
   "outputs": [
    {
     "data": {
      "image/png": "[encoded data removed]",
      "text/plain": [
       "<Figure size 864x504 with 1 Axes>"
      ]
     },
     "metadata": {},
     "output_type": "display_data"
    }
   ],
   "source": [
    "with plt.style.context('fivethirtyeight'):\n",
    "    df_dow.iloc[key.argsort()].plot(kind = 'line', figsize = (12, 7))"
   ]
  },
  {
   "cell_type": "markdown",
   "metadata": {
    "heading_collapsed": true
   },
   "source": [
    "## Further Details \n",
    "- https://machinelearningmastery.com/decompose-time-series-data-trend-seasonality/#:~:text=Trend%3A%20The%20increasing%20or%20decreasing,random%20variation%20in%20the%20series."
   ]
  }
 ],
 "metadata": {
  "kernelspec": {
   "display_name": "Python 3",
   "language": "python",
   "name": "python3"
  },
  "language_info": {
   "codemirror_mode": {
    "name": "ipython",
    "version": 3
   },
   "file_extension": ".py",
   "mimetype": "text/x-python",
   "name": "python",
   "nbconvert_exporter": "python",
   "pygments_lexer": "ipython3",
   "version": "3.6.9"
  }
 },
 "nbformat": 4,
 "nbformat_minor": 2
}
